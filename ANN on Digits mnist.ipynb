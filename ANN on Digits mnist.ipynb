{
 "cells": [
  {
   "cell_type": "markdown",
   "id": "4749d1856a224858",
   "metadata": {
    "tags": []
   },
   "source": [
    "# <font color = #E55604 size = 10><b> Artificial Neural Network (ANN)<font color = #D21312> VS</font> Convolutional Neural Network (CNN) </b></font>\n",
    "<font color = #219C90 size = 5> Using both **ANN** and **CNN** on **Digits Mnist dataset** **<font color = #45FFCA>__[https://en.wikipedia.org/wiki/MNIST_database](https://en.wikipedia.org/wiki/MNIST_database)__** </font></font>"
   ]
  },
  {
   "cell_type": "markdown",
   "id": "02c57d78-8bdb-4ab9-9560-aa8ed4d09281",
   "metadata": {},
   "source": [
    "![Neural Network](https://www.researchgate.net/profile/Sathiesh-Kumar-4/publication/320746968/figure/fig2/AS:566335681687552@1512036356552/Artificial-Neural-Networks-ANN-and-Convolutional-Neural-Networks-CNN.png)"
   ]
  },
  {
   "cell_type": "markdown",
   "id": "b1691dcd-8a99-4c11-8243-e4bf2b6f119c",
   "metadata": {
    "tags": []
   },
   "source": [
    "# <font color = #2F58CD> Artificial Neural Network (ANN) </font>"
   ]
  },
  {
   "cell_type": "code",
   "execution_count": 1,
   "id": "95ee14e7-94af-4a19-b32f-2444750c9438",
   "metadata": {},
   "outputs": [],
   "source": [
    "# !pip install tensorflow"
   ]
  },
  {
   "cell_type": "code",
   "execution_count": 47,
   "id": "fe45e065ae888062",
   "metadata": {
    "ExecuteTime": {
     "end_time": "2023-09-26T07:32:55.667018600Z",
     "start_time": "2023-09-26T07:32:51.454431500Z"
    },
    "collapsed": false,
    "jupyter": {
     "outputs_hidden": false
    }
   },
   "outputs": [],
   "source": [
    "# Importing required libraries\n",
    "import warnings\n",
    "warnings.filterwarnings(\"ignore\")\n",
    "import pandas as pd\n",
    "import numpy as np\n",
    "import matplotlib.pyplot as plt\n",
    "import tensorflow as tf\n",
    "import os\n",
    "import seaborn as sns\n",
    "import keras\n",
    "from keras.models import Sequential\n",
    "from keras.layers import Dense,Flatten,BatchNormalization,Dropout\n",
    "from keras.layers import LeakyReLU,Conv2D,MaxPooling2D,AveragePooling2D\n",
    "from keras import regularizers\n",
    "import time"
   ]
  },
  {
   "cell_type": "code",
   "execution_count": 3,
   "id": "f3f01be06d710b17",
   "metadata": {
    "ExecuteTime": {
     "end_time": "2023-09-26T07:33:19.101695200Z",
     "start_time": "2023-09-26T07:33:19.059583100Z"
    },
    "collapsed": false,
    "jupyter": {
     "outputs_hidden": false
    }
   },
   "outputs": [
    {
     "name": "stdout",
     "output_type": "stream",
     "text": [
      "2.13.0\n"
     ]
    }
   ],
   "source": [
    "print(tf.__version__) # Tensorflow version"
   ]
  },
  {
   "cell_type": "code",
   "execution_count": 4,
   "id": "e2234a3042245860",
   "metadata": {
    "ExecuteTime": {
     "end_time": "2023-09-18T06:39:43.962069600Z",
     "start_time": "2023-09-18T06:39:43.773792800Z"
    },
    "collapsed": false,
    "jupyter": {
     "outputs_hidden": false
    }
   },
   "outputs": [
    {
     "data": {
      "text/plain": [
       "[]"
      ]
     },
     "execution_count": 4,
     "metadata": {},
     "output_type": "execute_result"
    }
   ],
   "source": [
    "tf.config.list_physical_devices(\"GPU\") # Finding GPU"
   ]
  },
  {
   "cell_type": "code",
   "execution_count": 5,
   "id": "f07b40f39d69f8cd",
   "metadata": {
    "ExecuteTime": {
     "end_time": "2023-09-18T06:39:43.964070800Z",
     "start_time": "2023-09-18T06:39:43.791686900Z"
    },
    "collapsed": false,
    "jupyter": {
     "outputs_hidden": false
    }
   },
   "outputs": [
    {
     "data": {
      "text/plain": [
       "[PhysicalDevice(name='/physical_device:CPU:0', device_type='CPU')]"
      ]
     },
     "execution_count": 5,
     "metadata": {},
     "output_type": "execute_result"
    }
   ],
   "source": [
    "tf.config.list_physical_devices(\"CPU\") # Finding CPU"
   ]
  },
  {
   "cell_type": "code",
   "execution_count": 6,
   "id": "4fbcffeff9f6145d",
   "metadata": {
    "ExecuteTime": {
     "end_time": "2023-09-26T07:33:58.715235500Z",
     "start_time": "2023-09-26T07:33:58.019739100Z"
    },
    "collapsed": false,
    "jupyter": {
     "outputs_hidden": false
    }
   },
   "outputs": [],
   "source": [
    "# Loading Mnist dataset from tensorflow\n",
    "mnist = tf.keras.datasets.mnist\n",
    "(x_train_full, y_train_full) , (x_test, y_test) = mnist.load_data()"
   ]
  },
  {
   "cell_type": "code",
   "execution_count": 7,
   "id": "73f8aaea7b3a89dc",
   "metadata": {
    "ExecuteTime": {
     "end_time": "2023-09-26T07:34:00.261035600Z",
     "start_time": "2023-09-26T07:34:00.241038700Z"
    },
    "collapsed": false,
    "jupyter": {
     "outputs_hidden": false
    }
   },
   "outputs": [
    {
     "name": "stdout",
     "output_type": "stream",
     "text": [
      "(60000, 28, 28)\n",
      "(10000, 28, 28)\n"
     ]
    }
   ],
   "source": [
    "# Shape of Mnist dataset\n",
    "print(x_train_full.shape) # Training data shape\n",
    "print(x_test.shape)       # Testing data shape"
   ]
  },
  {
   "cell_type": "code",
   "execution_count": 8,
   "id": "73ca985f-c1e4-4de6-8141-7fcbd0102c26",
   "metadata": {},
   "outputs": [],
   "source": [
    "# There are 60000 image of handwritten digits and each image has resolution 28*28 which is equal to 784 pixels"
   ]
  },
  {
   "cell_type": "code",
   "execution_count": 9,
   "id": "b5cb95d1b6d8718b",
   "metadata": {
    "ExecuteTime": {
     "end_time": "2023-09-18T06:39:44.589484100Z",
     "start_time": "2023-09-18T06:39:44.272487600Z"
    },
    "collapsed": false,
    "jupyter": {
     "outputs_hidden": false
    }
   },
   "outputs": [
    {
     "data": {
      "image/png": "[encoded data removed]",
      "text/plain": [
       "<Figure size 1500x500 with 5 Axes>"
      ]
     },
     "metadata": {},
     "output_type": "display_data"
    }
   ],
   "source": [
    "# Here is some example\n",
    "k = 5\n",
    "plt.figure(figsize=(15,5))\n",
    "for i in range(1,k+1):\n",
    "    plt.subplot(1,k,i)\n",
    "    idx = int(np.random.randint(0,60000,1))\n",
    "    plt.imshow(x_train_full[idx], cmap=\"binary\")\n",
    "plt.show()"
   ]
  },
  {
   "cell_type": "code",
   "execution_count": 10,
   "id": "b2d8c9e31636aff",
   "metadata": {
    "ExecuteTime": {
     "end_time": "2023-09-18T06:39:44.790877900Z",
     "start_time": "2023-09-18T06:39:44.589484100Z"
    },
    "collapsed": false,
    "jupyter": {
     "outputs_hidden": false
    }
   },
   "outputs": [
    {
     "data": {
      "text/plain": [
       "array([[  0,   0,   0,   0,   0,   0,   0,   0,   0,   0,   0,   0,   0,\n",
       "          0,   0,   0,   0,   0,   0,   0,   0,   0,   0,   0,   0,   0,\n",
       "          0,   0],\n",
       "       [  0,   0,   0,   0,   0,   0,   0,   0,   0,   0,   0,   0,   0,\n",
       "          0,   0,   0,   0,   0,   0,   0,   0,   0,   0,   0,   0,   0,\n",
       "          0,   0],\n",
       "       [  0,   0,   0,   0,   0,   0,   0,   0,   0,   0,   0,   0,   0,\n",
       "          0,   0,   0,   0,   0,   0,   0,   0,   0,   0,   0,   0,   0,\n",
       "          0,   0],\n",
       "       [  0,   0,   0,   0,   0,   0,   0,   0,   0,   0,   0,   0,   0,\n",
       "          0,   0,   0,   0,   0,   0,   0,   0,   0,   0,   0,   0,   0,\n",
       "          0,   0],\n",
       "       [  0,   0,   0,   0,   0,   0,   0,   0,   0,   0,   0,   0,   0,\n",
       "          0,   0,   0,   0,   0,   0,   0,   0,   0,   0,   0,   0,   0,\n",
       "          0,   0],\n",
       "       [  0,   0,   0,   0,   0,   0,   0,   0,   0,   0,   0,   0,   3,\n",
       "         18,  18,  18, 126, 136, 175,  26, 166, 255, 247, 127,   0,   0,\n",
       "          0,   0],\n",
       "       [  0,   0,   0,   0,   0,   0,   0,   0,  30,  36,  94, 154, 170,\n",
       "        253, 253, 253, 253, 253, 225, 172, 253, 242, 195,  64,   0,   0,\n",
       "          0,   0],\n",
       "       [  0,   0,   0,   0,   0,   0,   0,  49, 238, 253, 253, 253, 253,\n",
       "        253, 253, 253, 253, 251,  93,  82,  82,  56,  39,   0,   0,   0,\n",
       "          0,   0],\n",
       "       [  0,   0,   0,   0,   0,   0,   0,  18, 219, 253, 253, 253, 253,\n",
       "        253, 198, 182, 247, 241,   0,   0,   0,   0,   0,   0,   0,   0,\n",
       "          0,   0],\n",
       "       [  0,   0,   0,   0,   0,   0,   0,   0,  80, 156, 107, 253, 253,\n",
       "        205,  11,   0,  43, 154,   0,   0,   0,   0,   0,   0,   0,   0,\n",
       "          0,   0],\n",
       "       [  0,   0,   0,   0,   0,   0,   0,   0,   0,  14,   1, 154, 253,\n",
       "         90,   0,   0,   0,   0,   0,   0,   0,   0,   0,   0,   0,   0,\n",
       "          0,   0],\n",
       "       [  0,   0,   0,   0,   0,   0,   0,   0,   0,   0,   0, 139, 253,\n",
       "        190,   2,   0,   0,   0,   0,   0,   0,   0,   0,   0,   0,   0,\n",
       "          0,   0],\n",
       "       [  0,   0,   0,   0,   0,   0,   0,   0,   0,   0,   0,  11, 190,\n",
       "        253,  70,   0,   0,   0,   0,   0,   0,   0,   0,   0,   0,   0,\n",
       "          0,   0],\n",
       "       [  0,   0,   0,   0,   0,   0,   0,   0,   0,   0,   0,   0,  35,\n",
       "        241, 225, 160, 108,   1,   0,   0,   0,   0,   0,   0,   0,   0,\n",
       "          0,   0],\n",
       "       [  0,   0,   0,   0,   0,   0,   0,   0,   0,   0,   0,   0,   0,\n",
       "         81, 240, 253, 253, 119,  25,   0,   0,   0,   0,   0,   0,   0,\n",
       "          0,   0],\n",
       "       [  0,   0,   0,   0,   0,   0,   0,   0,   0,   0,   0,   0,   0,\n",
       "          0,  45, 186, 253, 253, 150,  27,   0,   0,   0,   0,   0,   0,\n",
       "          0,   0],\n",
       "       [  0,   0,   0,   0,   0,   0,   0,   0,   0,   0,   0,   0,   0,\n",
       "          0,   0,  16,  93, 252, 253, 187,   0,   0,   0,   0,   0,   0,\n",
       "          0,   0],\n",
       "       [  0,   0,   0,   0,   0,   0,   0,   0,   0,   0,   0,   0,   0,\n",
       "          0,   0,   0,   0, 249, 253, 249,  64,   0,   0,   0,   0,   0,\n",
       "          0,   0],\n",
       "       [  0,   0,   0,   0,   0,   0,   0,   0,   0,   0,   0,   0,   0,\n",
       "          0,  46, 130, 183, 253, 253, 207,   2,   0,   0,   0,   0,   0,\n",
       "          0,   0],\n",
       "       [  0,   0,   0,   0,   0,   0,   0,   0,   0,   0,   0,   0,  39,\n",
       "        148, 229, 253, 253, 253, 250, 182,   0,   0,   0,   0,   0,   0,\n",
       "          0,   0],\n",
       "       [  0,   0,   0,   0,   0,   0,   0,   0,   0,   0,  24, 114, 221,\n",
       "        253, 253, 253, 253, 201,  78,   0,   0,   0,   0,   0,   0,   0,\n",
       "          0,   0],\n",
       "       [  0,   0,   0,   0,   0,   0,   0,   0,  23,  66, 213, 253, 253,\n",
       "        253, 253, 198,  81,   2,   0,   0,   0,   0,   0,   0,   0,   0,\n",
       "          0,   0],\n",
       "       [  0,   0,   0,   0,   0,   0,  18, 171, 219, 253, 253, 253, 253,\n",
       "        195,  80,   9,   0,   0,   0,   0,   0,   0,   0,   0,   0,   0,\n",
       "          0,   0],\n",
       "       [  0,   0,   0,   0,  55, 172, 226, 253, 253, 253, 253, 244, 133,\n",
       "         11,   0,   0,   0,   0,   0,   0,   0,   0,   0,   0,   0,   0,\n",
       "          0,   0],\n",
       "       [  0,   0,   0,   0, 136, 253, 253, 253, 212, 135, 132,  16,   0,\n",
       "          0,   0,   0,   0,   0,   0,   0,   0,   0,   0,   0,   0,   0,\n",
       "          0,   0],\n",
       "       [  0,   0,   0,   0,   0,   0,   0,   0,   0,   0,   0,   0,   0,\n",
       "          0,   0,   0,   0,   0,   0,   0,   0,   0,   0,   0,   0,   0,\n",
       "          0,   0],\n",
       "       [  0,   0,   0,   0,   0,   0,   0,   0,   0,   0,   0,   0,   0,\n",
       "          0,   0,   0,   0,   0,   0,   0,   0,   0,   0,   0,   0,   0,\n",
       "          0,   0],\n",
       "       [  0,   0,   0,   0,   0,   0,   0,   0,   0,   0,   0,   0,   0,\n",
       "          0,   0,   0,   0,   0,   0,   0,   0,   0,   0,   0,   0,   0,\n",
       "          0,   0]], dtype=uint8)"
      ]
     },
     "execution_count": 10,
     "metadata": {},
     "output_type": "execute_result"
    }
   ],
   "source": [
    "x_train_full[0] # Image at \"0\" index"
   ]
  },
  {
   "cell_type": "code",
   "execution_count": 11,
   "id": "92b0e2f00fdd65ac",
   "metadata": {
    "ExecuteTime": {
     "end_time": "2023-09-18T06:39:44.792878800Z",
     "start_time": "2023-09-18T06:39:44.601496200Z"
    },
    "collapsed": false,
    "jupyter": {
     "outputs_hidden": false
    }
   },
   "outputs": [
    {
     "data": {
      "text/plain": [
       "5"
      ]
     },
     "execution_count": 11,
     "metadata": {},
     "output_type": "execute_result"
    }
   ],
   "source": [
    "y_train_full[0] # Number at \"0\" index"
   ]
  },
  {
   "cell_type": "code",
   "execution_count": 12,
   "id": "627285a729cc451c",
   "metadata": {
    "ExecuteTime": {
     "end_time": "2023-09-18T06:39:44.906540700Z",
     "start_time": "2023-09-18T06:39:44.614938100Z"
    },
    "collapsed": false,
    "jupyter": {
     "outputs_hidden": false
    }
   },
   "outputs": [],
   "source": [
    "# Converting the pixels value between 0 to 1\n",
    "x_valid, x_train = x_train_full[:5000]/255, x_train_full[5000:]/255\n",
    "y_valid, y_train = y_train_full[:5000], y_train_full[5000:]\n",
    "\n",
    "x_test = x_test/255"
   ]
  },
  {
   "cell_type": "markdown",
   "id": "23ab8ab0-ba12-4b1f-9880-1fa530b26f79",
   "metadata": {
    "tags": []
   },
   "source": [
    "## <font color = #2F58CD> First **ANN** Network </font>"
   ]
  },
  {
   "cell_type": "code",
   "execution_count": 13,
   "id": "8fc07170927851a1",
   "metadata": {
    "ExecuteTime": {
     "end_time": "2023-09-18T06:39:45.086007200Z",
     "start_time": "2023-09-18T06:39:44.841905500Z"
    },
    "collapsed": false,
    "jupyter": {
     "outputs_hidden": false
    }
   },
   "outputs": [],
   "source": [
    "# Defining the layers\n",
    "LAYERS = [\n",
    "    tf.keras.layers.Flatten(input_shape=[28,28],name=\"inputLayer\"),\n",
    "    tf.keras.layers.Dense(300,activation=\"relu\",name=\"hiddenLayer1\"),\n",
    "    tf.keras.layers.Dense(100,activation=\"relu\",name=\"hiddenLayer2\"),\n",
    "    tf.keras.layers.Dense(10,activation=\"softmax\",name=\"outputLayer\")\n",
    "]\n",
    "\n",
    "model = tf.keras.models.Sequential(LAYERS)"
   ]
  },
  {
   "cell_type": "code",
   "execution_count": 14,
   "id": "decb63640329e14c",
   "metadata": {
    "ExecuteTime": {
     "end_time": "2023-09-18T06:39:45.221666300Z",
     "start_time": "2023-09-18T06:39:45.103191Z"
    },
    "collapsed": false,
    "jupyter": {
     "outputs_hidden": false
    }
   },
   "outputs": [
    {
     "name": "stdout",
     "output_type": "stream",
     "text": [
      "Model: \"sequential\"\n",
      "_________________________________________________________________\n",
      " Layer (type)                Output Shape              Param #   \n",
      "=================================================================\n",
      " inputLayer (Flatten)        (None, 784)               0         \n",
      "                                                                 \n",
      " hiddenLayer1 (Dense)        (None, 300)               235500    \n",
      "                                                                 \n",
      " hiddenLayer2 (Dense)        (None, 100)               30100     \n",
      "                                                                 \n",
      " outputLayer (Dense)         (None, 10)                1010      \n",
      "                                                                 \n",
      "=================================================================\n",
      "Total params: 266610 (1.02 MB)\n",
      "Trainable params: 266610 (1.02 MB)\n",
      "Non-trainable params: 0 (0.00 Byte)\n",
      "_________________________________________________________________\n"
     ]
    }
   ],
   "source": [
    "model.summary() # Summary of the model"
   ]
  },
  {
   "cell_type": "code",
   "execution_count": 15,
   "id": "c9f60bd064ed8629",
   "metadata": {
    "ExecuteTime": {
     "end_time": "2023-09-18T06:39:45.223666600Z",
     "start_time": "2023-09-18T06:39:45.153298600Z"
    },
    "collapsed": false,
    "jupyter": {
     "outputs_hidden": false
    }
   },
   "outputs": [
    {
     "data": {
      "text/plain": [
       "[]"
      ]
     },
     "execution_count": 15,
     "metadata": {},
     "output_type": "execute_result"
    }
   ],
   "source": [
    "input_layer = model.layers[0]\n",
    "input_layer.get_weights()"
   ]
  },
  {
   "cell_type": "code",
   "execution_count": 16,
   "id": "bd371b10-d9e5-4749-bc16-e5b7ba090f71",
   "metadata": {
    "ExecuteTime": {
     "end_time": "2023-09-18T06:39:45.225666500Z",
     "start_time": "2023-09-18T06:39:45.166300Z"
    },
    "collapsed": false,
    "jupyter": {
     "outputs_hidden": false
    }
   },
   "outputs": [],
   "source": [
    "# Input layer has no weights"
   ]
  },
  {
   "cell_type": "code",
   "execution_count": 17,
   "id": "bbd916a7bdf1a30a",
   "metadata": {
    "ExecuteTime": {
     "end_time": "2023-09-18T06:39:45.226774200Z",
     "start_time": "2023-09-18T06:39:45.181947Z"
    },
    "collapsed": false,
    "jupyter": {
     "outputs_hidden": false
    }
   },
   "outputs": [
    {
     "data": {
      "text/plain": [
       "[array([[ 0.05054694,  0.05149697,  0.03309961, ...,  0.02394158,\n",
       "         -0.05443621, -0.0246108 ],\n",
       "        [-0.03562779,  0.052334  , -0.00815411, ..., -0.05099124,\n",
       "         -0.03987789,  0.06253996],\n",
       "        [-0.05267614, -0.00288451, -0.04274706, ..., -0.03713851,\n",
       "         -0.006381  , -0.04133867],\n",
       "        ...,\n",
       "        [-0.00974952, -0.05030172,  0.00722869, ...,  0.04120136,\n",
       "          0.05719981, -0.03929667],\n",
       "        [ 0.05011772, -0.07320872,  0.03449158, ...,  0.06320289,\n",
       "         -0.00371967, -0.04382963],\n",
       "        [ 0.0317823 , -0.03270683, -0.00461791, ..., -0.02013218,\n",
       "         -0.06971186,  0.01487658]], dtype=float32),\n",
       " array([0., 0., 0., 0., 0., 0., 0., 0., 0., 0., 0., 0., 0., 0., 0., 0., 0.,\n",
       "        0., 0., 0., 0., 0., 0., 0., 0., 0., 0., 0., 0., 0., 0., 0., 0., 0.,\n",
       "        0., 0., 0., 0., 0., 0., 0., 0., 0., 0., 0., 0., 0., 0., 0., 0., 0.,\n",
       "        0., 0., 0., 0., 0., 0., 0., 0., 0., 0., 0., 0., 0., 0., 0., 0., 0.,\n",
       "        0., 0., 0., 0., 0., 0., 0., 0., 0., 0., 0., 0., 0., 0., 0., 0., 0.,\n",
       "        0., 0., 0., 0., 0., 0., 0., 0., 0., 0., 0., 0., 0., 0., 0., 0., 0.,\n",
       "        0., 0., 0., 0., 0., 0., 0., 0., 0., 0., 0., 0., 0., 0., 0., 0., 0.,\n",
       "        0., 0., 0., 0., 0., 0., 0., 0., 0., 0., 0., 0., 0., 0., 0., 0., 0.,\n",
       "        0., 0., 0., 0., 0., 0., 0., 0., 0., 0., 0., 0., 0., 0., 0., 0., 0.,\n",
       "        0., 0., 0., 0., 0., 0., 0., 0., 0., 0., 0., 0., 0., 0., 0., 0., 0.,\n",
       "        0., 0., 0., 0., 0., 0., 0., 0., 0., 0., 0., 0., 0., 0., 0., 0., 0.,\n",
       "        0., 0., 0., 0., 0., 0., 0., 0., 0., 0., 0., 0., 0., 0., 0., 0., 0.,\n",
       "        0., 0., 0., 0., 0., 0., 0., 0., 0., 0., 0., 0., 0., 0., 0., 0., 0.,\n",
       "        0., 0., 0., 0., 0., 0., 0., 0., 0., 0., 0., 0., 0., 0., 0., 0., 0.,\n",
       "        0., 0., 0., 0., 0., 0., 0., 0., 0., 0., 0., 0., 0., 0., 0., 0., 0.,\n",
       "        0., 0., 0., 0., 0., 0., 0., 0., 0., 0., 0., 0., 0., 0., 0., 0., 0.,\n",
       "        0., 0., 0., 0., 0., 0., 0., 0., 0., 0., 0., 0., 0., 0., 0., 0., 0.,\n",
       "        0., 0., 0., 0., 0., 0., 0., 0., 0., 0., 0.], dtype=float32)]"
      ]
     },
     "execution_count": 17,
     "metadata": {},
     "output_type": "execute_result"
    }
   ],
   "source": [
    "hidden1 = model.layers[1]\n",
    "hidden1.get_weights() # The weights of first hidden layer"
   ]
  },
  {
   "cell_type": "code",
   "execution_count": 18,
   "id": "847c0145a22a0d29",
   "metadata": {
    "ExecuteTime": {
     "end_time": "2023-09-18T06:39:45.437334200Z",
     "start_time": "2023-09-18T06:39:45.226774200Z"
    },
    "collapsed": false,
    "jupyter": {
     "outputs_hidden": false
    }
   },
   "outputs": [],
   "source": [
    "# Defining Loss_function,Optimizer,Metrics and compiling the model\n",
    "loss_function = \"sparse_categorical_crossentropy\"\n",
    "OPTIMIZER = tf.keras.optimizers.SGD(learning_rate=0.001)\n",
    "METRICS = [\"accuracy\"]\n",
    "\n",
    "model.compile(\n",
    "    loss=loss_function,\n",
    "    optimizer=OPTIMIZER,\n",
    "    metrics=METRICS\n",
    ")"
   ]
  },
  {
   "cell_type": "code",
   "execution_count": 19,
   "id": "d30c5418054c8347",
   "metadata": {
    "ExecuteTime": {
     "end_time": "2023-09-18T06:39:45.444769600Z",
     "start_time": "2023-09-18T06:39:45.271671100Z"
    },
    "collapsed": false,
    "jupyter": {
     "outputs_hidden": false
    }
   },
   "outputs": [],
   "source": [
    "# Creating a function for saving the logs at proper folder\n",
    "def get_log_path(log_dir=\"logs/fit\"):\n",
    "    filename = time.strftime(\"1_log_%y_%m_%d_%H_%M_%S\")\n",
    "    logs_path = os.path.join(log_dir,filename)\n",
    "    print(f\"Saving logs at {logs_path}\")\n",
    "    return logs_path"
   ]
  },
  {
   "cell_type": "code",
   "execution_count": 20,
   "id": "e64bc16d4c454f7c",
   "metadata": {
    "ExecuteTime": {
     "end_time": "2023-09-18T06:39:45.446745500Z",
     "start_time": "2023-09-18T06:39:45.288672100Z"
    },
    "collapsed": false,
    "jupyter": {
     "outputs_hidden": false
    }
   },
   "outputs": [
    {
     "name": "stdout",
     "output_type": "stream",
     "text": [
      "Saving logs at logs/fit/1_log_23_09_26_19_48_02\n"
     ]
    }
   ],
   "source": [
    "# Creating logs callback \n",
    "log_dirs = get_log_path()\n",
    "tb_cb = tf.keras.callbacks.TensorBoard(log_dir=log_dirs)"
   ]
  },
  {
   "cell_type": "code",
   "execution_count": 21,
   "id": "d1de48cdcefb486f",
   "metadata": {
    "ExecuteTime": {
     "end_time": "2023-09-18T06:39:45.448746200Z",
     "start_time": "2023-09-18T06:39:45.303682400Z"
    },
    "collapsed": false,
    "jupyter": {
     "outputs_hidden": false
    }
   },
   "outputs": [],
   "source": [
    "# Creating early stopping callback\n",
    "early_stopping_cb = tf.keras.callbacks.EarlyStopping(patience=7, restore_best_weights=True)"
   ]
  },
  {
   "cell_type": "code",
   "execution_count": 22,
   "id": "80ff4d6521ba979d",
   "metadata": {
    "ExecuteTime": {
     "end_time": "2023-09-18T06:39:45.467782700Z",
     "start_time": "2023-09-18T06:39:45.317933700Z"
    },
    "collapsed": false,
    "jupyter": {
     "outputs_hidden": false
    }
   },
   "outputs": [],
   "source": [
    "# Saving the model with callback\n",
    "CKPT_path = os.path.join(\"Models\",\"Model_ckpt_Digit_mnist_1.h5\")\n",
    "checkpoint_cb = tf.keras.callbacks.ModelCheckpoint(CKPT_path, save_best_only=True)"
   ]
  },
  {
   "cell_type": "code",
   "execution_count": 23,
   "id": "4a45690b8959cdf4",
   "metadata": {
    "ExecuteTime": {
     "end_time": "2023-09-18T06:43:03.168376800Z",
     "start_time": "2023-09-18T06:39:45.350520600Z"
    },
    "collapsed": false,
    "jupyter": {
     "outputs_hidden": false
    }
   },
   "outputs": [
    {
     "name": "stdout",
     "output_type": "stream",
     "text": [
      "Epoch 1/50\n",
      "860/860 [==============================] - 4s 4ms/step - loss: 2.0446 - accuracy: 0.4097 - val_loss: 1.7333 - val_accuracy: 0.6436\n",
      "Epoch 2/50\n",
      "860/860 [==============================] - 3s 4ms/step - loss: 1.4550 - accuracy: 0.7157 - val_loss: 1.1851 - val_accuracy: 0.7628\n",
      "Epoch 3/50\n",
      "860/860 [==============================] - 4s 4ms/step - loss: 1.0196 - accuracy: 0.7898 - val_loss: 0.8604 - val_accuracy: 0.8108\n",
      "Epoch 4/50\n",
      "860/860 [==============================] - 3s 4ms/step - loss: 0.7823 - accuracy: 0.8234 - val_loss: 0.6892 - val_accuracy: 0.8376\n",
      "Epoch 5/50\n",
      "860/860 [==============================] - 3s 4ms/step - loss: 0.6523 - accuracy: 0.8436 - val_loss: 0.5889 - val_accuracy: 0.8564\n",
      "Epoch 6/50\n",
      "860/860 [==============================] - 3s 4ms/step - loss: 0.5727 - accuracy: 0.8573 - val_loss: 0.5238 - val_accuracy: 0.8694\n",
      "Epoch 7/50\n",
      "860/860 [==============================] - 3s 4ms/step - loss: 0.5191 - accuracy: 0.8671 - val_loss: 0.4781 - val_accuracy: 0.8798\n",
      "Epoch 8/50\n",
      "860/860 [==============================] - 3s 4ms/step - loss: 0.4806 - accuracy: 0.8746 - val_loss: 0.4446 - val_accuracy: 0.8860\n",
      "Epoch 9/50\n",
      "860/860 [==============================] - 4s 4ms/step - loss: 0.4515 - accuracy: 0.8803 - val_loss: 0.4181 - val_accuracy: 0.8916\n",
      "Epoch 10/50\n",
      "860/860 [==============================] - 3s 4ms/step - loss: 0.4287 - accuracy: 0.8844 - val_loss: 0.3975 - val_accuracy: 0.8954\n",
      "Epoch 11/50\n",
      "860/860 [==============================] - 3s 4ms/step - loss: 0.4102 - accuracy: 0.8883 - val_loss: 0.3804 - val_accuracy: 0.8988\n",
      "Epoch 12/50\n",
      "860/860 [==============================] - 3s 4ms/step - loss: 0.3947 - accuracy: 0.8915 - val_loss: 0.3666 - val_accuracy: 0.9014\n",
      "Epoch 13/50\n",
      "860/860 [==============================] - 3s 4ms/step - loss: 0.3817 - accuracy: 0.8940 - val_loss: 0.3545 - val_accuracy: 0.9036\n",
      "Epoch 14/50\n",
      "860/860 [==============================] - 3s 4ms/step - loss: 0.3705 - accuracy: 0.8967 - val_loss: 0.3441 - val_accuracy: 0.9052\n",
      "Epoch 15/50\n",
      "860/860 [==============================] - 3s 4ms/step - loss: 0.3607 - accuracy: 0.8986 - val_loss: 0.3350 - val_accuracy: 0.9072\n",
      "Epoch 16/50\n",
      "860/860 [==============================] - 3s 4ms/step - loss: 0.3520 - accuracy: 0.9012 - val_loss: 0.3265 - val_accuracy: 0.9082\n",
      "Epoch 17/50\n",
      "860/860 [==============================] - 3s 4ms/step - loss: 0.3441 - accuracy: 0.9027 - val_loss: 0.3193 - val_accuracy: 0.9094\n",
      "Epoch 18/50\n",
      "860/860 [==============================] - 3s 4ms/step - loss: 0.3369 - accuracy: 0.9049 - val_loss: 0.3126 - val_accuracy: 0.9116\n",
      "Epoch 19/50\n",
      "860/860 [==============================] - 3s 4ms/step - loss: 0.3304 - accuracy: 0.9063 - val_loss: 0.3067 - val_accuracy: 0.9148\n",
      "Epoch 20/50\n",
      "860/860 [==============================] - 3s 4ms/step - loss: 0.3243 - accuracy: 0.9083 - val_loss: 0.3010 - val_accuracy: 0.9158\n",
      "Epoch 21/50\n",
      "860/860 [==============================] - 3s 4ms/step - loss: 0.3187 - accuracy: 0.9096 - val_loss: 0.2957 - val_accuracy: 0.9168\n",
      "Epoch 22/50\n",
      "860/860 [==============================] - 3s 4ms/step - loss: 0.3135 - accuracy: 0.9110 - val_loss: 0.2911 - val_accuracy: 0.9182\n",
      "Epoch 23/50\n",
      "860/860 [==============================] - 3s 4ms/step - loss: 0.3087 - accuracy: 0.9122 - val_loss: 0.2862 - val_accuracy: 0.9202\n",
      "Epoch 24/50\n",
      "860/860 [==============================] - 3s 4ms/step - loss: 0.3039 - accuracy: 0.9135 - val_loss: 0.2823 - val_accuracy: 0.9210\n",
      "Epoch 25/50\n",
      "860/860 [==============================] - 3s 4ms/step - loss: 0.2995 - accuracy: 0.9143 - val_loss: 0.2782 - val_accuracy: 0.9216\n",
      "Epoch 26/50\n",
      "860/860 [==============================] - 3s 4ms/step - loss: 0.2954 - accuracy: 0.9157 - val_loss: 0.2742 - val_accuracy: 0.9234\n",
      "Epoch 27/50\n",
      "860/860 [==============================] - 3s 4ms/step - loss: 0.2913 - accuracy: 0.9168 - val_loss: 0.2707 - val_accuracy: 0.9236\n",
      "Epoch 28/50\n",
      "860/860 [==============================] - 3s 4ms/step - loss: 0.2875 - accuracy: 0.9180 - val_loss: 0.2670 - val_accuracy: 0.9246\n",
      "Epoch 29/50\n",
      "860/860 [==============================] - 3s 4ms/step - loss: 0.2839 - accuracy: 0.9192 - val_loss: 0.2637 - val_accuracy: 0.9256\n",
      "Epoch 30/50\n",
      "860/860 [==============================] - 3s 4ms/step - loss: 0.2804 - accuracy: 0.9205 - val_loss: 0.2607 - val_accuracy: 0.9256\n",
      "Epoch 31/50\n",
      "860/860 [==============================] - 3s 4ms/step - loss: 0.2769 - accuracy: 0.9206 - val_loss: 0.2572 - val_accuracy: 0.9272\n",
      "Epoch 32/50\n",
      "860/860 [==============================] - 3s 4ms/step - loss: 0.2737 - accuracy: 0.9216 - val_loss: 0.2545 - val_accuracy: 0.9270\n",
      "Epoch 33/50\n",
      "860/860 [==============================] - 3s 4ms/step - loss: 0.2706 - accuracy: 0.9228 - val_loss: 0.2519 - val_accuracy: 0.9280\n",
      "Epoch 34/50\n",
      "860/860 [==============================] - 3s 4ms/step - loss: 0.2675 - accuracy: 0.9241 - val_loss: 0.2489 - val_accuracy: 0.9286\n",
      "Epoch 35/50\n",
      "860/860 [==============================] - 3s 4ms/step - loss: 0.2645 - accuracy: 0.9249 - val_loss: 0.2462 - val_accuracy: 0.9304\n",
      "Epoch 36/50\n",
      "860/860 [==============================] - 3s 4ms/step - loss: 0.2617 - accuracy: 0.9256 - val_loss: 0.2433 - val_accuracy: 0.9312\n",
      "Epoch 37/50\n",
      "860/860 [==============================] - 3s 4ms/step - loss: 0.2588 - accuracy: 0.9266 - val_loss: 0.2409 - val_accuracy: 0.9320\n",
      "Epoch 38/50\n",
      "860/860 [==============================] - 3s 4ms/step - loss: 0.2561 - accuracy: 0.9271 - val_loss: 0.2385 - val_accuracy: 0.9328\n",
      "Epoch 39/50\n",
      "860/860 [==============================] - 3s 4ms/step - loss: 0.2534 - accuracy: 0.9278 - val_loss: 0.2356 - val_accuracy: 0.9338\n",
      "Epoch 40/50\n",
      "860/860 [==============================] - 3s 4ms/step - loss: 0.2509 - accuracy: 0.9284 - val_loss: 0.2337 - val_accuracy: 0.9336\n",
      "Epoch 41/50\n",
      "860/860 [==============================] - 3s 4ms/step - loss: 0.2484 - accuracy: 0.9298 - val_loss: 0.2312 - val_accuracy: 0.9348\n",
      "Epoch 42/50\n",
      "860/860 [==============================] - 3s 4ms/step - loss: 0.2459 - accuracy: 0.9301 - val_loss: 0.2291 - val_accuracy: 0.9364\n",
      "Epoch 43/50\n",
      "860/860 [==============================] - 3s 4ms/step - loss: 0.2435 - accuracy: 0.9306 - val_loss: 0.2270 - val_accuracy: 0.9362\n",
      "Epoch 44/50\n",
      "860/860 [==============================] - 3s 4ms/step - loss: 0.2412 - accuracy: 0.9315 - val_loss: 0.2247 - val_accuracy: 0.9372\n",
      "Epoch 45/50\n",
      "860/860 [==============================] - 3s 4ms/step - loss: 0.2389 - accuracy: 0.9321 - val_loss: 0.2227 - val_accuracy: 0.9374\n",
      "Epoch 46/50\n",
      "860/860 [==============================] - 3s 4ms/step - loss: 0.2367 - accuracy: 0.9326 - val_loss: 0.2211 - val_accuracy: 0.9382\n",
      "Epoch 47/50\n",
      "860/860 [==============================] - 3s 4ms/step - loss: 0.2345 - accuracy: 0.9335 - val_loss: 0.2188 - val_accuracy: 0.9384\n",
      "Epoch 48/50\n",
      "860/860 [==============================] - 3s 4ms/step - loss: 0.2323 - accuracy: 0.9338 - val_loss: 0.2169 - val_accuracy: 0.9384\n",
      "Epoch 49/50\n",
      "860/860 [==============================] - 3s 4ms/step - loss: 0.2302 - accuracy: 0.9343 - val_loss: 0.2151 - val_accuracy: 0.9400\n",
      "Epoch 50/50\n",
      "860/860 [==============================] - 3s 4ms/step - loss: 0.2282 - accuracy: 0.9348 - val_loss: 0.2134 - val_accuracy: 0.9400\n"
     ]
    }
   ],
   "source": [
    "EPOCHS = 50 # Number of Epochs\n",
    "VALIDATION_SET = (x_valid,y_valid) # Validation data\n",
    "history = model.fit(x_train,y_train,epochs=EPOCHS,validation_data=VALIDATION_SET,batch_size=64, # Training the model\n",
    "                    callbacks=[tb_cb,early_stopping_cb,checkpoint_cb],use_multiprocessing=True)"
   ]
  },
  {
   "cell_type": "code",
   "execution_count": 24,
   "id": "1d1f0bbb-c5b6-4194-b8e9-c40a41a30065",
   "metadata": {},
   "outputs": [
    {
     "data": {
      "text/html": [
       "<div>\n",
       "<style scoped>\n",
       "    .dataframe tbody tr th:only-of-type {\n",
       "        vertical-align: middle;\n",
       "    }\n",
       "\n",
       "    .dataframe tbody tr th {\n",
       "        vertical-align: top;\n",
       "    }\n",
       "\n",
       "    .dataframe thead th {\n",
       "        text-align: right;\n",
       "    }\n",
       "</style>\n",
       "<table border=\"1\" class=\"dataframe\">\n",
       "  <thead>\n",
       "    <tr style=\"text-align: right;\">\n",
       "      <th></th>\n",
       "      <th>loss</th>\n",
       "      <th>accuracy</th>\n",
       "      <th>val_loss</th>\n",
       "      <th>val_accuracy</th>\n",
       "    </tr>\n",
       "  </thead>\n",
       "  <tbody>\n",
       "    <tr>\n",
       "      <th>0</th>\n",
       "      <td>2.044599</td>\n",
       "      <td>0.409745</td>\n",
       "      <td>1.733334</td>\n",
       "      <td>0.6436</td>\n",
       "    </tr>\n",
       "    <tr>\n",
       "      <th>1</th>\n",
       "      <td>1.455023</td>\n",
       "      <td>0.715709</td>\n",
       "      <td>1.185071</td>\n",
       "      <td>0.7628</td>\n",
       "    </tr>\n",
       "    <tr>\n",
       "      <th>2</th>\n",
       "      <td>1.019633</td>\n",
       "      <td>0.789800</td>\n",
       "      <td>0.860445</td>\n",
       "      <td>0.8108</td>\n",
       "    </tr>\n",
       "    <tr>\n",
       "      <th>3</th>\n",
       "      <td>0.782261</td>\n",
       "      <td>0.823436</td>\n",
       "      <td>0.689154</td>\n",
       "      <td>0.8376</td>\n",
       "    </tr>\n",
       "    <tr>\n",
       "      <th>4</th>\n",
       "      <td>0.652308</td>\n",
       "      <td>0.843582</td>\n",
       "      <td>0.588874</td>\n",
       "      <td>0.8564</td>\n",
       "    </tr>\n",
       "    <tr>\n",
       "      <th>5</th>\n",
       "      <td>0.572710</td>\n",
       "      <td>0.857255</td>\n",
       "      <td>0.523771</td>\n",
       "      <td>0.8694</td>\n",
       "    </tr>\n",
       "    <tr>\n",
       "      <th>6</th>\n",
       "      <td>0.519132</td>\n",
       "      <td>0.867127</td>\n",
       "      <td>0.478128</td>\n",
       "      <td>0.8798</td>\n",
       "    </tr>\n",
       "    <tr>\n",
       "      <th>7</th>\n",
       "      <td>0.480602</td>\n",
       "      <td>0.874636</td>\n",
       "      <td>0.444642</td>\n",
       "      <td>0.8860</td>\n",
       "    </tr>\n",
       "    <tr>\n",
       "      <th>8</th>\n",
       "      <td>0.451508</td>\n",
       "      <td>0.880273</td>\n",
       "      <td>0.418126</td>\n",
       "      <td>0.8916</td>\n",
       "    </tr>\n",
       "    <tr>\n",
       "      <th>9</th>\n",
       "      <td>0.428673</td>\n",
       "      <td>0.884400</td>\n",
       "      <td>0.397529</td>\n",
       "      <td>0.8954</td>\n",
       "    </tr>\n",
       "    <tr>\n",
       "      <th>10</th>\n",
       "      <td>0.410156</td>\n",
       "      <td>0.888255</td>\n",
       "      <td>0.380364</td>\n",
       "      <td>0.8988</td>\n",
       "    </tr>\n",
       "    <tr>\n",
       "      <th>11</th>\n",
       "      <td>0.394743</td>\n",
       "      <td>0.891545</td>\n",
       "      <td>0.366589</td>\n",
       "      <td>0.9014</td>\n",
       "    </tr>\n",
       "    <tr>\n",
       "      <th>12</th>\n",
       "      <td>0.381738</td>\n",
       "      <td>0.894036</td>\n",
       "      <td>0.354540</td>\n",
       "      <td>0.9036</td>\n",
       "    </tr>\n",
       "    <tr>\n",
       "      <th>13</th>\n",
       "      <td>0.370523</td>\n",
       "      <td>0.896655</td>\n",
       "      <td>0.344144</td>\n",
       "      <td>0.9052</td>\n",
       "    </tr>\n",
       "    <tr>\n",
       "      <th>14</th>\n",
       "      <td>0.360709</td>\n",
       "      <td>0.898564</td>\n",
       "      <td>0.334979</td>\n",
       "      <td>0.9072</td>\n",
       "    </tr>\n",
       "    <tr>\n",
       "      <th>15</th>\n",
       "      <td>0.351955</td>\n",
       "      <td>0.901182</td>\n",
       "      <td>0.326504</td>\n",
       "      <td>0.9082</td>\n",
       "    </tr>\n",
       "    <tr>\n",
       "      <th>16</th>\n",
       "      <td>0.344110</td>\n",
       "      <td>0.902709</td>\n",
       "      <td>0.319325</td>\n",
       "      <td>0.9094</td>\n",
       "    </tr>\n",
       "    <tr>\n",
       "      <th>17</th>\n",
       "      <td>0.336940</td>\n",
       "      <td>0.904909</td>\n",
       "      <td>0.312572</td>\n",
       "      <td>0.9116</td>\n",
       "    </tr>\n",
       "    <tr>\n",
       "      <th>18</th>\n",
       "      <td>0.330399</td>\n",
       "      <td>0.906345</td>\n",
       "      <td>0.306733</td>\n",
       "      <td>0.9148</td>\n",
       "    </tr>\n",
       "    <tr>\n",
       "      <th>19</th>\n",
       "      <td>0.324309</td>\n",
       "      <td>0.908327</td>\n",
       "      <td>0.300988</td>\n",
       "      <td>0.9158</td>\n",
       "    </tr>\n",
       "    <tr>\n",
       "      <th>20</th>\n",
       "      <td>0.318691</td>\n",
       "      <td>0.909636</td>\n",
       "      <td>0.295740</td>\n",
       "      <td>0.9168</td>\n",
       "    </tr>\n",
       "    <tr>\n",
       "      <th>21</th>\n",
       "      <td>0.313513</td>\n",
       "      <td>0.911000</td>\n",
       "      <td>0.291094</td>\n",
       "      <td>0.9182</td>\n",
       "    </tr>\n",
       "    <tr>\n",
       "      <th>22</th>\n",
       "      <td>0.308652</td>\n",
       "      <td>0.912200</td>\n",
       "      <td>0.286233</td>\n",
       "      <td>0.9202</td>\n",
       "    </tr>\n",
       "    <tr>\n",
       "      <th>23</th>\n",
       "      <td>0.303929</td>\n",
       "      <td>0.913527</td>\n",
       "      <td>0.282320</td>\n",
       "      <td>0.9210</td>\n",
       "    </tr>\n",
       "    <tr>\n",
       "      <th>24</th>\n",
       "      <td>0.299470</td>\n",
       "      <td>0.914255</td>\n",
       "      <td>0.278207</td>\n",
       "      <td>0.9216</td>\n",
       "    </tr>\n",
       "    <tr>\n",
       "      <th>25</th>\n",
       "      <td>0.295367</td>\n",
       "      <td>0.915745</td>\n",
       "      <td>0.274233</td>\n",
       "      <td>0.9234</td>\n",
       "    </tr>\n",
       "    <tr>\n",
       "      <th>26</th>\n",
       "      <td>0.291341</td>\n",
       "      <td>0.916800</td>\n",
       "      <td>0.270697</td>\n",
       "      <td>0.9236</td>\n",
       "    </tr>\n",
       "    <tr>\n",
       "      <th>27</th>\n",
       "      <td>0.287510</td>\n",
       "      <td>0.917964</td>\n",
       "      <td>0.267022</td>\n",
       "      <td>0.9246</td>\n",
       "    </tr>\n",
       "    <tr>\n",
       "      <th>28</th>\n",
       "      <td>0.283905</td>\n",
       "      <td>0.919200</td>\n",
       "      <td>0.263742</td>\n",
       "      <td>0.9256</td>\n",
       "    </tr>\n",
       "    <tr>\n",
       "      <th>29</th>\n",
       "      <td>0.280367</td>\n",
       "      <td>0.920509</td>\n",
       "      <td>0.260654</td>\n",
       "      <td>0.9256</td>\n",
       "    </tr>\n",
       "    <tr>\n",
       "      <th>30</th>\n",
       "      <td>0.276936</td>\n",
       "      <td>0.920564</td>\n",
       "      <td>0.257197</td>\n",
       "      <td>0.9272</td>\n",
       "    </tr>\n",
       "    <tr>\n",
       "      <th>31</th>\n",
       "      <td>0.273685</td>\n",
       "      <td>0.921582</td>\n",
       "      <td>0.254464</td>\n",
       "      <td>0.9270</td>\n",
       "    </tr>\n",
       "    <tr>\n",
       "      <th>32</th>\n",
       "      <td>0.270556</td>\n",
       "      <td>0.922836</td>\n",
       "      <td>0.251917</td>\n",
       "      <td>0.9280</td>\n",
       "    </tr>\n",
       "    <tr>\n",
       "      <th>33</th>\n",
       "      <td>0.267517</td>\n",
       "      <td>0.924127</td>\n",
       "      <td>0.248867</td>\n",
       "      <td>0.9286</td>\n",
       "    </tr>\n",
       "    <tr>\n",
       "      <th>34</th>\n",
       "      <td>0.264475</td>\n",
       "      <td>0.924945</td>\n",
       "      <td>0.246232</td>\n",
       "      <td>0.9304</td>\n",
       "    </tr>\n",
       "    <tr>\n",
       "      <th>35</th>\n",
       "      <td>0.261701</td>\n",
       "      <td>0.925564</td>\n",
       "      <td>0.243337</td>\n",
       "      <td>0.9312</td>\n",
       "    </tr>\n",
       "    <tr>\n",
       "      <th>36</th>\n",
       "      <td>0.258824</td>\n",
       "      <td>0.926582</td>\n",
       "      <td>0.240950</td>\n",
       "      <td>0.9320</td>\n",
       "    </tr>\n",
       "    <tr>\n",
       "      <th>37</th>\n",
       "      <td>0.256124</td>\n",
       "      <td>0.927091</td>\n",
       "      <td>0.238550</td>\n",
       "      <td>0.9328</td>\n",
       "    </tr>\n",
       "    <tr>\n",
       "      <th>38</th>\n",
       "      <td>0.253415</td>\n",
       "      <td>0.927782</td>\n",
       "      <td>0.235629</td>\n",
       "      <td>0.9338</td>\n",
       "    </tr>\n",
       "    <tr>\n",
       "      <th>39</th>\n",
       "      <td>0.250865</td>\n",
       "      <td>0.928364</td>\n",
       "      <td>0.233744</td>\n",
       "      <td>0.9336</td>\n",
       "    </tr>\n",
       "    <tr>\n",
       "      <th>40</th>\n",
       "      <td>0.248369</td>\n",
       "      <td>0.929782</td>\n",
       "      <td>0.231237</td>\n",
       "      <td>0.9348</td>\n",
       "    </tr>\n",
       "    <tr>\n",
       "      <th>41</th>\n",
       "      <td>0.245898</td>\n",
       "      <td>0.930109</td>\n",
       "      <td>0.229094</td>\n",
       "      <td>0.9364</td>\n",
       "    </tr>\n",
       "    <tr>\n",
       "      <th>42</th>\n",
       "      <td>0.243542</td>\n",
       "      <td>0.930636</td>\n",
       "      <td>0.227009</td>\n",
       "      <td>0.9362</td>\n",
       "    </tr>\n",
       "    <tr>\n",
       "      <th>43</th>\n",
       "      <td>0.241214</td>\n",
       "      <td>0.931473</td>\n",
       "      <td>0.224715</td>\n",
       "      <td>0.9372</td>\n",
       "    </tr>\n",
       "    <tr>\n",
       "      <th>44</th>\n",
       "      <td>0.238904</td>\n",
       "      <td>0.932091</td>\n",
       "      <td>0.222734</td>\n",
       "      <td>0.9374</td>\n",
       "    </tr>\n",
       "    <tr>\n",
       "      <th>45</th>\n",
       "      <td>0.236651</td>\n",
       "      <td>0.932600</td>\n",
       "      <td>0.221052</td>\n",
       "      <td>0.9382</td>\n",
       "    </tr>\n",
       "    <tr>\n",
       "      <th>46</th>\n",
       "      <td>0.234489</td>\n",
       "      <td>0.933545</td>\n",
       "      <td>0.218850</td>\n",
       "      <td>0.9384</td>\n",
       "    </tr>\n",
       "    <tr>\n",
       "      <th>47</th>\n",
       "      <td>0.232283</td>\n",
       "      <td>0.933782</td>\n",
       "      <td>0.216922</td>\n",
       "      <td>0.9384</td>\n",
       "    </tr>\n",
       "    <tr>\n",
       "      <th>48</th>\n",
       "      <td>0.230208</td>\n",
       "      <td>0.934345</td>\n",
       "      <td>0.215123</td>\n",
       "      <td>0.9400</td>\n",
       "    </tr>\n",
       "    <tr>\n",
       "      <th>49</th>\n",
       "      <td>0.228181</td>\n",
       "      <td>0.934836</td>\n",
       "      <td>0.213441</td>\n",
       "      <td>0.9400</td>\n",
       "    </tr>\n",
       "  </tbody>\n",
       "</table>\n",
       "</div>"
      ],
      "text/plain": [
       "        loss  accuracy  val_loss  val_accuracy\n",
       "0   2.044599  0.409745  1.733334        0.6436\n",
       "1   1.455023  0.715709  1.185071        0.7628\n",
       "2   1.019633  0.789800  0.860445        0.8108\n",
       "3   0.782261  0.823436  0.689154        0.8376\n",
       "4   0.652308  0.843582  0.588874        0.8564\n",
       "5   0.572710  0.857255  0.523771        0.8694\n",
       "6   0.519132  0.867127  0.478128        0.8798\n",
       "7   0.480602  0.874636  0.444642        0.8860\n",
       "8   0.451508  0.880273  0.418126        0.8916\n",
       "9   0.428673  0.884400  0.397529        0.8954\n",
       "10  0.410156  0.888255  0.380364        0.8988\n",
       "11  0.394743  0.891545  0.366589        0.9014\n",
       "12  0.381738  0.894036  0.354540        0.9036\n",
       "13  0.370523  0.896655  0.344144        0.9052\n",
       "14  0.360709  0.898564  0.334979        0.9072\n",
       "15  0.351955  0.901182  0.326504        0.9082\n",
       "16  0.344110  0.902709  0.319325        0.9094\n",
       "17  0.336940  0.904909  0.312572        0.9116\n",
       "18  0.330399  0.906345  0.306733        0.9148\n",
       "19  0.324309  0.908327  0.300988        0.9158\n",
       "20  0.318691  0.909636  0.295740        0.9168\n",
       "21  0.313513  0.911000  0.291094        0.9182\n",
       "22  0.308652  0.912200  0.286233        0.9202\n",
       "23  0.303929  0.913527  0.282320        0.9210\n",
       "24  0.299470  0.914255  0.278207        0.9216\n",
       "25  0.295367  0.915745  0.274233        0.9234\n",
       "26  0.291341  0.916800  0.270697        0.9236\n",
       "27  0.287510  0.917964  0.267022        0.9246\n",
       "28  0.283905  0.919200  0.263742        0.9256\n",
       "29  0.280367  0.920509  0.260654        0.9256\n",
       "30  0.276936  0.920564  0.257197        0.9272\n",
       "31  0.273685  0.921582  0.254464        0.9270\n",
       "32  0.270556  0.922836  0.251917        0.9280\n",
       "33  0.267517  0.924127  0.248867        0.9286\n",
       "34  0.264475  0.924945  0.246232        0.9304\n",
       "35  0.261701  0.925564  0.243337        0.9312\n",
       "36  0.258824  0.926582  0.240950        0.9320\n",
       "37  0.256124  0.927091  0.238550        0.9328\n",
       "38  0.253415  0.927782  0.235629        0.9338\n",
       "39  0.250865  0.928364  0.233744        0.9336\n",
       "40  0.248369  0.929782  0.231237        0.9348\n",
       "41  0.245898  0.930109  0.229094        0.9364\n",
       "42  0.243542  0.930636  0.227009        0.9362\n",
       "43  0.241214  0.931473  0.224715        0.9372\n",
       "44  0.238904  0.932091  0.222734        0.9374\n",
       "45  0.236651  0.932600  0.221052        0.9382\n",
       "46  0.234489  0.933545  0.218850        0.9384\n",
       "47  0.232283  0.933782  0.216922        0.9384\n",
       "48  0.230208  0.934345  0.215123        0.9400\n",
       "49  0.228181  0.934836  0.213441        0.9400"
      ]
     },
     "execution_count": 24,
     "metadata": {},
     "output_type": "execute_result"
    }
   ],
   "source": [
    "pd.DataFrame(history.history) # All the losses and accuracy in each epoch"
   ]
  },
  {
   "cell_type": "code",
   "execution_count": 25,
   "id": "3da30790cd1de979",
   "metadata": {
    "ExecuteTime": {
     "end_time": "2023-09-18T06:43:04.189896Z",
     "start_time": "2023-09-18T06:43:03.167374500Z"
    },
    "collapsed": false,
    "jupyter": {
     "outputs_hidden": false
    }
   },
   "outputs": [
    {
     "data": {
      "text/plain": [
       "<AxesSubplot: >"
      ]
     },
     "execution_count": 25,
     "metadata": {},
     "output_type": "execute_result"
    },
    {
     "data": {
      "image/png": "[encoded data removed]",
      "text/plain": [
       "<Figure size 640x480 with 1 Axes>"
      ]
     },
     "metadata": {},
     "output_type": "display_data"
    }
   ],
   "source": [
    "pd.DataFrame(history.history).plot() # Plotting all of the accuracy and losses "
   ]
  },
  {
   "cell_type": "code",
   "execution_count": 26,
   "id": "64ff0179941c25b0",
   "metadata": {
    "ExecuteTime": {
     "end_time": "2023-09-18T06:43:05.807296800Z",
     "start_time": "2023-09-18T06:43:04.232055Z"
    },
    "collapsed": false,
    "jupyter": {
     "outputs_hidden": false
    }
   },
   "outputs": [
    {
     "name": "stdout",
     "output_type": "stream",
     "text": [
      "313/313 [==============================] - 1s 2ms/step - loss: 0.2221 - accuracy: 0.9365\n"
     ]
    },
    {
     "data": {
      "text/plain": [
       "[0.2220998853445053, 0.9365000128746033]"
      ]
     },
     "execution_count": 26,
     "metadata": {},
     "output_type": "execute_result"
    }
   ],
   "source": [
    "ckpt_model = tf.keras.models.load_model(CKPT_path) # Loading model\n",
    "ckpt_model.evaluate(x_test,y_test)                 # Evaluating the performance of the model on test data"
   ]
  },
  {
   "cell_type": "markdown",
   "id": "4b8ff4b0-c7e0-4185-9ba9-b3a3d9bf60da",
   "metadata": {},
   "source": [
    "<font color = #B2A4FF size=5> The test accuracy of the first **ANN** model is **93.65 %** </font>"
   ]
  },
  {
   "cell_type": "code",
   "execution_count": 27,
   "id": "65137adc42dbb400",
   "metadata": {
    "ExecuteTime": {
     "end_time": "2023-09-18T06:43:07.546406200Z",
     "start_time": "2023-09-18T06:43:07.356860200Z"
    },
    "collapsed": false,
    "jupyter": {
     "outputs_hidden": false
    }
   },
   "outputs": [
    {
     "name": "stdout",
     "output_type": "stream",
     "text": [
      "Probability of each number for image of testing data:- \n",
      "\n",
      "1/1 [==============================] - 0s 105ms/step\n",
      "\n",
      "Number : Probability\n",
      "0      :      0.0\n",
      "1      :      0.0\n",
      "2      :      0.001\n",
      "3      :      0.001\n",
      "4      :      0.05\n",
      "5      :      0.0\n",
      "6      :      0.0\n",
      "7      :      0.007\n",
      "8      :      0.001\n",
      "9      :      0.94\n",
      "Predicted final output is:  9 \n",
      "\n",
      "1/1 [==============================] - 0s 26ms/step\n",
      "\n",
      "Number : Probability\n",
      "0      :      0.289\n",
      "1      :      0.0\n",
      "2      :      0.005\n",
      "3      :      0.0\n",
      "4      :      0.439\n",
      "5      :      0.048\n",
      "6      :      0.035\n",
      "7      :      0.008\n",
      "8      :      0.121\n",
      "9      :      0.054\n",
      "Predicted final output is:  4 \n",
      "\n",
      "1/1 [==============================] - 0s 25ms/step\n",
      "\n",
      "Number : Probability\n",
      "0      :      0.002\n",
      "1      :      0.0\n",
      "2      :      0.002\n",
      "3      :      0.006\n",
      "4      :      0.002\n",
      "5      :      0.697\n",
      "6      :      0.0\n",
      "7      :      0.019\n",
      "8      :      0.026\n",
      "9      :      0.245\n",
      "Predicted final output is:  5 \n",
      "\n",
      "1/1 [==============================] - 0s 26ms/step\n",
      "\n",
      "Number : Probability\n",
      "0      :      0.0\n",
      "1      :      0.0\n",
      "2      :      0.0\n",
      "3      :      0.003\n",
      "4      :      0.051\n",
      "5      :      0.001\n",
      "6      :      0.0\n",
      "7      :      0.047\n",
      "8      :      0.001\n",
      "9      :      0.896\n",
      "Predicted final output is:  9 \n",
      "\n",
      "1/1 [==============================] - 0s 26ms/step\n",
      "\n",
      "Number : Probability\n",
      "0      :      0.0\n",
      "1      :      0.0\n",
      "2      :      0.999\n",
      "3      :      0.0\n",
      "4      :      0.0\n",
      "5      :      0.0\n",
      "6      :      0.0\n",
      "7      :      0.0\n",
      "8      :      0.001\n",
      "9      :      0.0\n",
      "Predicted final output is:  2 \n",
      "\n"
     ]
    }
   ],
   "source": [
    "# Predicting the probability of 5 samples randomly\n",
    "print(\"Probability of each number for image of testing data:- \\n\")\n",
    "for j in range(5):\n",
    "    idx = np.random.randint(0,10000,1)[0]\n",
    "    y_prob_lst = ckpt_model.predict(x_test[idx-1:idx]).round(3)[0]\n",
    "    print(\"\\nNumber : Probability\")\n",
    "    for i in range(10):\n",
    "        print(i,\"     :     \",y_prob_lst[i])\n",
    "    y_predict = np.argmax(y_prob_lst,axis=-1)\n",
    "    print(\"Predicted final output is: \",y_predict,\"\\n\")"
   ]
  },
  {
   "cell_type": "code",
   "execution_count": 28,
   "id": "1c2627b45c5d8020",
   "metadata": {
    "ExecuteTime": {
     "end_time": "2023-09-18T06:43:07.665444800Z",
     "start_time": "2023-09-18T06:43:07.560214300Z"
    },
    "collapsed": false,
    "jupyter": {
     "outputs_hidden": false
    }
   },
   "outputs": [],
   "source": [
    "del model\n",
    "del ckpt_model"
   ]
  },
  {
   "cell_type": "markdown",
   "id": "0aa9bd65-a019-4a13-b803-582e97b0229f",
   "metadata": {
    "ExecuteTime": {
     "end_time": "2023-09-18T06:43:07.666454400Z",
     "start_time": "2023-09-18T06:43:07.575700800Z"
    },
    "jupyter": {
     "outputs_hidden": false
    },
    "tags": []
   },
   "source": [
    "## <font color = #2F58CD> Second **ANN** Network </font>"
   ]
  },
  {
   "cell_type": "code",
   "execution_count": 29,
   "id": "9155790a4b9abd96",
   "metadata": {
    "ExecuteTime": {
     "end_time": "2023-09-18T06:43:07.887581400Z",
     "start_time": "2023-09-18T06:43:07.591893800Z"
    },
    "collapsed": false,
    "jupyter": {
     "outputs_hidden": false
    }
   },
   "outputs": [],
   "source": [
    "# Added kernel regularization,batch normalization,dropout and leakyrelu activation function \n",
    "model = Sequential()\n",
    "model.add(Flatten(input_shape=[28,28]))\n",
    "model.add(Dense(units=256,kernel_regularizer=regularizers.L1L2(0.0001,0.0001)))\n",
    "model.add(BatchNormalization())\n",
    "model.add(LeakyReLU())\n",
    "model.add(Dropout(0.1))\n",
    "model.add(Dense(units=128,kernel_regularizer=regularizers.L1L2(0.0001,0.0001)))\n",
    "model.add(BatchNormalization())\n",
    "model.add(LeakyReLU())\n",
    "model.add(Dropout(0.1))\n",
    "model.add(Dense(units=64,kernel_regularizer=regularizers.L1L2(0.0001,0.0001)))\n",
    "model.add(BatchNormalization())\n",
    "model.add(LeakyReLU())\n",
    "model.add(Dropout(0.1))\n",
    "model.add(Dense(units=32,kernel_regularizer=regularizers.L1L2(0.0001,0.0001)))\n",
    "model.add(BatchNormalization())\n",
    "model.add(LeakyReLU())\n",
    "model.add(Dropout(0.1))\n",
    "model.add(Dense(units=16,kernel_regularizer=regularizers.L1L2(0.0001,0.0001)))\n",
    "model.add(BatchNormalization())\n",
    "model.add(LeakyReLU())\n",
    "model.add(Dropout(0.1))\n",
    "model.add(Dense(units=10,activation=\"softmax\"))"
   ]
  },
  {
   "cell_type": "code",
   "execution_count": 30,
   "id": "f751b2849758e750",
   "metadata": {
    "ExecuteTime": {
     "end_time": "2023-09-18T06:43:08.058647300Z",
     "start_time": "2023-09-18T06:43:07.887581400Z"
    },
    "collapsed": false,
    "jupyter": {
     "outputs_hidden": false
    }
   },
   "outputs": [
    {
     "name": "stdout",
     "output_type": "stream",
     "text": [
      "Model: \"sequential_1\"\n",
      "_________________________________________________________________\n",
      " Layer (type)                Output Shape              Param #   \n",
      "=================================================================\n",
      " flatten (Flatten)           (None, 784)               0         \n",
      "                                                                 \n",
      " dense (Dense)               (None, 256)               200960    \n",
      "                                                                 \n",
      " batch_normalization (Batch  (None, 256)               1024      \n",
      " Normalization)                                                  \n",
      "                                                                 \n",
      " leaky_re_lu (LeakyReLU)     (None, 256)               0         \n",
      "                                                                 \n",
      " dropout (Dropout)           (None, 256)               0         \n",
      "                                                                 \n",
      " dense_1 (Dense)             (None, 128)               32896     \n",
      "                                                                 \n",
      " batch_normalization_1 (Bat  (None, 128)               512       \n",
      " chNormalization)                                                \n",
      "                                                                 \n",
      " leaky_re_lu_1 (LeakyReLU)   (None, 128)               0         \n",
      "                                                                 \n",
      " dropout_1 (Dropout)         (None, 128)               0         \n",
      "                                                                 \n",
      " dense_2 (Dense)             (None, 64)                8256      \n",
      "                                                                 \n",
      " batch_normalization_2 (Bat  (None, 64)                256       \n",
      " chNormalization)                                                \n",
      "                                                                 \n",
      " leaky_re_lu_2 (LeakyReLU)   (None, 64)                0         \n",
      "                                                                 \n",
      " dropout_2 (Dropout)         (None, 64)                0         \n",
      "                                                                 \n",
      " dense_3 (Dense)             (None, 32)                2080      \n",
      "                                                                 \n",
      " batch_normalization_3 (Bat  (None, 32)                128       \n",
      " chNormalization)                                                \n",
      "                                                                 \n",
      " leaky_re_lu_3 (LeakyReLU)   (None, 32)                0         \n",
      "                                                                 \n",
      " dropout_3 (Dropout)         (None, 32)                0         \n",
      "                                                                 \n",
      " dense_4 (Dense)             (None, 16)                528       \n",
      "                                                                 \n",
      " batch_normalization_4 (Bat  (None, 16)                64        \n",
      " chNormalization)                                                \n",
      "                                                                 \n",
      " leaky_re_lu_4 (LeakyReLU)   (None, 16)                0         \n",
      "                                                                 \n",
      " dropout_4 (Dropout)         (None, 16)                0         \n",
      "                                                                 \n",
      " dense_5 (Dense)             (None, 10)                170       \n",
      "                                                                 \n",
      "=================================================================\n",
      "Total params: 246874 (964.35 KB)\n",
      "Trainable params: 245882 (960.48 KB)\n",
      "Non-trainable params: 992 (3.88 KB)\n",
      "_________________________________________________________________\n"
     ]
    }
   ],
   "source": [
    "model.summary()"
   ]
  },
  {
   "cell_type": "code",
   "execution_count": 31,
   "id": "98452c0f391702b7",
   "metadata": {
    "ExecuteTime": {
     "end_time": "2023-09-18T06:47:56.227490700Z",
     "start_time": "2023-09-18T06:43:07.951595200Z"
    },
    "collapsed": false,
    "jupyter": {
     "outputs_hidden": false
    }
   },
   "outputs": [
    {
     "name": "stdout",
     "output_type": "stream",
     "text": [
      "Saving logs at logs/fit/2_log_23_09_26_19_50_51\n",
      "Epoch 1/50\n",
      "860/860 [==============================] - 11s 9ms/step - loss: 1.1647 - accuracy: 0.8697 - val_loss: 0.6543 - val_accuracy: 0.9488\n",
      "Epoch 2/50\n",
      "860/860 [==============================] - 7s 8ms/step - loss: 0.6878 - accuracy: 0.9233 - val_loss: 0.5432 - val_accuracy: 0.9448\n",
      "Epoch 3/50\n",
      "860/860 [==============================] - 7s 8ms/step - loss: 0.5877 - accuracy: 0.9297 - val_loss: 0.4598 - val_accuracy: 0.9600\n",
      "Epoch 4/50\n",
      "860/860 [==============================] - 7s 8ms/step - loss: 0.5365 - accuracy: 0.9348 - val_loss: 0.4354 - val_accuracy: 0.9560\n",
      "Epoch 5/50\n",
      "860/860 [==============================] - 7s 8ms/step - loss: 0.5017 - accuracy: 0.9392 - val_loss: 0.4121 - val_accuracy: 0.9634\n",
      "Epoch 6/50\n",
      "860/860 [==============================] - 7s 8ms/step - loss: 0.4760 - accuracy: 0.9425 - val_loss: 0.4001 - val_accuracy: 0.9640\n",
      "Epoch 7/50\n",
      "860/860 [==============================] - 7s 8ms/step - loss: 0.4614 - accuracy: 0.9445 - val_loss: 0.3945 - val_accuracy: 0.9588\n",
      "Epoch 8/50\n",
      "860/860 [==============================] - 7s 8ms/step - loss: 0.4515 - accuracy: 0.9437 - val_loss: 0.3675 - val_accuracy: 0.9680\n",
      "Epoch 9/50\n",
      "860/860 [==============================] - 7s 8ms/step - loss: 0.4310 - accuracy: 0.9468 - val_loss: 0.3562 - val_accuracy: 0.9654\n",
      "Epoch 10/50\n",
      "860/860 [==============================] - 7s 8ms/step - loss: 0.4226 - accuracy: 0.9480 - val_loss: 0.3484 - val_accuracy: 0.9682\n",
      "Epoch 11/50\n",
      "860/860 [==============================] - 7s 8ms/step - loss: 0.4131 - accuracy: 0.9479 - val_loss: 0.3498 - val_accuracy: 0.9636\n",
      "Epoch 12/50\n",
      "860/860 [==============================] - 7s 8ms/step - loss: 0.4058 - accuracy: 0.9489 - val_loss: 0.3338 - val_accuracy: 0.9714\n",
      "Epoch 13/50\n",
      "860/860 [==============================] - 7s 8ms/step - loss: 0.3914 - accuracy: 0.9501 - val_loss: 0.3233 - val_accuracy: 0.9696\n",
      "Epoch 14/50\n",
      "860/860 [==============================] - 7s 8ms/step - loss: 0.3885 - accuracy: 0.9516 - val_loss: 0.3288 - val_accuracy: 0.9678\n",
      "Epoch 15/50\n",
      "860/860 [==============================] - 7s 8ms/step - loss: 0.3823 - accuracy: 0.9516 - val_loss: 0.3065 - val_accuracy: 0.9746\n",
      "Epoch 16/50\n",
      "860/860 [==============================] - 7s 8ms/step - loss: 0.3820 - accuracy: 0.9507 - val_loss: 0.3134 - val_accuracy: 0.9716\n",
      "Epoch 17/50\n",
      "860/860 [==============================] - 7s 8ms/step - loss: 0.3751 - accuracy: 0.9516 - val_loss: 0.3318 - val_accuracy: 0.9662\n",
      "Epoch 18/50\n",
      "860/860 [==============================] - 7s 8ms/step - loss: 0.3694 - accuracy: 0.9523 - val_loss: 0.2952 - val_accuracy: 0.9742\n",
      "Epoch 19/50\n",
      "860/860 [==============================] - 7s 8ms/step - loss: 0.3640 - accuracy: 0.9528 - val_loss: 0.3038 - val_accuracy: 0.9704\n",
      "Epoch 20/50\n",
      "860/860 [==============================] - 7s 8ms/step - loss: 0.3642 - accuracy: 0.9527 - val_loss: 0.3097 - val_accuracy: 0.9684\n",
      "Epoch 21/50\n",
      "860/860 [==============================] - 7s 8ms/step - loss: 0.3625 - accuracy: 0.9533 - val_loss: 0.2941 - val_accuracy: 0.9716\n",
      "Epoch 22/50\n",
      "860/860 [==============================] - 7s 8ms/step - loss: 0.3547 - accuracy: 0.9535 - val_loss: 0.2917 - val_accuracy: 0.9734\n",
      "Epoch 23/50\n",
      "860/860 [==============================] - 7s 8ms/step - loss: 0.3564 - accuracy: 0.9531 - val_loss: 0.2963 - val_accuracy: 0.9730\n",
      "Epoch 24/50\n",
      "860/860 [==============================] - 7s 8ms/step - loss: 0.3505 - accuracy: 0.9555 - val_loss: 0.2995 - val_accuracy: 0.9716\n",
      "Epoch 25/50\n",
      "860/860 [==============================] - 7s 8ms/step - loss: 0.3490 - accuracy: 0.9545 - val_loss: 0.2903 - val_accuracy: 0.9706\n",
      "Epoch 26/50\n",
      "860/860 [==============================] - 7s 8ms/step - loss: 0.3475 - accuracy: 0.9547 - val_loss: 0.2815 - val_accuracy: 0.9748\n",
      "Epoch 27/50\n",
      "860/860 [==============================] - 7s 8ms/step - loss: 0.3446 - accuracy: 0.9557 - val_loss: 0.2833 - val_accuracy: 0.9726\n",
      "Epoch 28/50\n",
      "860/860 [==============================] - 7s 8ms/step - loss: 0.3444 - accuracy: 0.9548 - val_loss: 0.2782 - val_accuracy: 0.9750\n",
      "Epoch 29/50\n",
      "860/860 [==============================] - 7s 8ms/step - loss: 0.3469 - accuracy: 0.9554 - val_loss: 0.2768 - val_accuracy: 0.9742\n",
      "Epoch 30/50\n",
      "860/860 [==============================] - 7s 8ms/step - loss: 0.3439 - accuracy: 0.9548 - val_loss: 0.2746 - val_accuracy: 0.9746\n",
      "Epoch 31/50\n",
      "860/860 [==============================] - 7s 8ms/step - loss: 0.3379 - accuracy: 0.9554 - val_loss: 0.2837 - val_accuracy: 0.9742\n",
      "Epoch 32/50\n",
      "860/860 [==============================] - 7s 8ms/step - loss: 0.3380 - accuracy: 0.9570 - val_loss: 0.2963 - val_accuracy: 0.9684\n",
      "Epoch 33/50\n",
      "860/860 [==============================] - 7s 8ms/step - loss: 0.3415 - accuracy: 0.9551 - val_loss: 0.3166 - val_accuracy: 0.9628\n",
      "Epoch 34/50\n",
      "860/860 [==============================] - 7s 8ms/step - loss: 0.3366 - accuracy: 0.9558 - val_loss: 0.3045 - val_accuracy: 0.9638\n",
      "Epoch 35/50\n",
      "860/860 [==============================] - 7s 8ms/step - loss: 0.3380 - accuracy: 0.9558 - val_loss: 0.2847 - val_accuracy: 0.9712\n",
      "Epoch 36/50\n",
      "860/860 [==============================] - 7s 8ms/step - loss: 0.3353 - accuracy: 0.9559 - val_loss: 0.2898 - val_accuracy: 0.9736\n",
      "Epoch 37/50\n",
      "860/860 [==============================] - 7s 8ms/step - loss: 0.3368 - accuracy: 0.9554 - val_loss: 0.2770 - val_accuracy: 0.9740\n"
     ]
    }
   ],
   "source": [
    "def get_log_path(log_dir=\"logs/fit\"):\n",
    "    filename = time.strftime(\"2_log_%y_%m_%d_%H_%M_%S\")\n",
    "    logs_path = os.path.join(log_dir, filename)\n",
    "    print(f\"Saving logs at {logs_path}\")\n",
    "    return logs_path\n",
    "\n",
    "log_dirs = get_log_path()\n",
    "tb_cb = tf.keras.callbacks.TensorBoard(log_dir=log_dirs)\n",
    "\n",
    "early_stopping_cb = tf.keras.callbacks.EarlyStopping(patience=7, restore_best_weights=True)\n",
    "\n",
    "CKPT_path = os.path.join(\"Models\",\"Model_ckpt_Digit_mnist_2.h5\")\n",
    "checkpoint_cb = tf.keras.callbacks.ModelCheckpoint(CKPT_path, save_best_only=True)\n",
    "\n",
    "EPOCHS = 50\n",
    "VALIDATION_SET = (x_valid, y_valid)\n",
    "\n",
    "loss_function = \"sparse_categorical_crossentropy\"\n",
    "OPTIMIZER = tf.keras.optimizers.Adam(learning_rate=0.001)\n",
    "METRICS = [\"accuracy\"]\n",
    "\n",
    "model.compile(\n",
    "    loss=loss_function,\n",
    "    optimizer=OPTIMIZER,\n",
    "    metrics=METRICS\n",
    ")\n",
    "\n",
    "history = model.fit(x_train, y_train, epochs=EPOCHS, validation_data=VALIDATION_SET, batch_size=64,\n",
    "                    callbacks=[tb_cb, early_stopping_cb, checkpoint_cb],use_multiprocessing=True)"
   ]
  },
  {
   "cell_type": "code",
   "execution_count": 32,
   "id": "8ed2fe654d4bb67d",
   "metadata": {
    "ExecuteTime": {
     "end_time": "2023-09-18T06:47:57.397433Z",
     "start_time": "2023-09-18T06:47:56.202493700Z"
    },
    "collapsed": false,
    "jupyter": {
     "outputs_hidden": false
    }
   },
   "outputs": [
    {
     "data": {
      "text/plain": [
       "<AxesSubplot: >"
      ]
     },
     "execution_count": 32,
     "metadata": {},
     "output_type": "execute_result"
    },
    {
     "data": {
      "image/png": "[encoded data removed]",
      "text/plain": [
       "<Figure size 640x480 with 1 Axes>"
      ]
     },
     "metadata": {},
     "output_type": "display_data"
    }
   ],
   "source": [
    "pd.DataFrame(history.history).plot()"
   ]
  },
  {
   "cell_type": "code",
   "execution_count": 33,
   "id": "ace54f3569de221e",
   "metadata": {
    "ExecuteTime": {
     "end_time": "2023-09-18T06:48:01.245517Z",
     "start_time": "2023-09-18T06:47:57.311814200Z"
    },
    "collapsed": false,
    "jupyter": {
     "outputs_hidden": false
    }
   },
   "outputs": [
    {
     "name": "stdout",
     "output_type": "stream",
     "text": [
      "313/313 [==============================] - 1s 2ms/step - loss: 0.2719 - accuracy: 0.9740\n"
     ]
    },
    {
     "data": {
      "text/plain": [
       "[0.27185875177383423, 0.9739999771118164]"
      ]
     },
     "execution_count": 33,
     "metadata": {},
     "output_type": "execute_result"
    }
   ],
   "source": [
    "ckpt_model = tf.keras.models.load_model(CKPT_path)\n",
    "ckpt_model.evaluate(x_test,y_test)"
   ]
  },
  {
   "cell_type": "markdown",
   "id": "ce1bbd3c-f84a-4c75-ab6b-9d03e42a3eeb",
   "metadata": {},
   "source": [
    "<font color = #B2A4FF size=5> The accuracy of the second **ANN** model is **97.40 %** </font>"
   ]
  },
  {
   "cell_type": "code",
   "execution_count": 34,
   "id": "79fb15394fa061db",
   "metadata": {
    "ExecuteTime": {
     "end_time": "2023-09-18T06:48:01.254192700Z",
     "start_time": "2023-09-18T06:48:01.174492200Z"
    },
    "collapsed": false,
    "jupyter": {
     "outputs_hidden": false
    }
   },
   "outputs": [],
   "source": [
    "del model\n",
    "del ckpt_model"
   ]
  },
  {
   "cell_type": "markdown",
   "id": "7cb620ba-53da-4495-8e96-8c5eef3f5645",
   "metadata": {},
   "source": [
    "## <font color = #2F58CD> Third **ANN** Network </font>"
   ]
  },
  {
   "cell_type": "code",
   "execution_count": 35,
   "id": "10c6aa3ade7ad846",
   "metadata": {
    "ExecuteTime": {
     "end_time": "2023-09-18T06:48:01.813048700Z",
     "start_time": "2023-09-18T06:48:01.209817700Z"
    },
    "collapsed": false,
    "jupyter": {
     "outputs_hidden": false
    }
   },
   "outputs": [],
   "source": [
    "# Added kernel regularization,batch normalization,dropout,kernel initializer and leakyrelu activation function \n",
    "model = Sequential()\n",
    "model.add(Flatten(input_shape=[28,28]))\n",
    "model.add(Dense(units=256,kernel_regularizer=regularizers.L1L2(0.0001,0.0001),kernel_initializer=tf.keras.initializers.HeNormal(seed=42)))\n",
    "model.add(BatchNormalization())\n",
    "model.add(LeakyReLU())\n",
    "model.add(Dropout(0.1))\n",
    "model.add(Dense(units=128,kernel_regularizer=regularizers.L1L2(0.0001,0.0001),kernel_initializer=tf.keras.initializers.HeNormal(seed=42)))\n",
    "model.add(BatchNormalization())\n",
    "model.add(LeakyReLU())\n",
    "model.add(Dropout(0.1))\n",
    "model.add(Dense(units=64,kernel_regularizer=regularizers.L1L2(0.0001,0.0001),kernel_initializer=tf.keras.initializers.HeNormal(seed=42)))\n",
    "model.add(BatchNormalization())\n",
    "model.add(LeakyReLU())\n",
    "model.add(Dropout(0.1))\n",
    "model.add(Dense(units=32,kernel_regularizer=regularizers.L1L2(0.0001,0.0001),kernel_initializer=tf.keras.initializers.HeNormal(seed=42)))\n",
    "model.add(BatchNormalization())\n",
    "model.add(LeakyReLU())\n",
    "model.add(Dropout(0.1))\n",
    "model.add(Dense(units=16,kernel_regularizer=regularizers.L1L2(0.0001,0.0001),kernel_initializer=tf.keras.initializers.HeNormal(seed=42)))\n",
    "model.add(BatchNormalization())\n",
    "model.add(LeakyReLU())\n",
    "model.add(Dropout(0.1))\n",
    "model.add(Dense(units=10,activation=\"softmax\"))"
   ]
  },
  {
   "cell_type": "code",
   "execution_count": 36,
   "id": "58ff7b851c5f47d8",
   "metadata": {
    "ExecuteTime": {
     "end_time": "2023-09-18T06:48:02.367058100Z",
     "start_time": "2023-09-18T06:48:01.817954900Z"
    },
    "collapsed": false,
    "jupyter": {
     "outputs_hidden": false
    }
   },
   "outputs": [
    {
     "name": "stdout",
     "output_type": "stream",
     "text": [
      "Model: \"sequential_2\"\n",
      "_________________________________________________________________\n",
      " Layer (type)                Output Shape              Param #   \n",
      "=================================================================\n",
      " flatten_1 (Flatten)         (None, 784)               0         \n",
      "                                                                 \n",
      " dense_6 (Dense)             (None, 256)               200960    \n",
      "                                                                 \n",
      " batch_normalization_5 (Bat  (None, 256)               1024      \n",
      " chNormalization)                                                \n",
      "                                                                 \n",
      " leaky_re_lu_5 (LeakyReLU)   (None, 256)               0         \n",
      "                                                                 \n",
      " dropout_5 (Dropout)         (None, 256)               0         \n",
      "                                                                 \n",
      " dense_7 (Dense)             (None, 128)               32896     \n",
      "                                                                 \n",
      " batch_normalization_6 (Bat  (None, 128)               512       \n",
      " chNormalization)                                                \n",
      "                                                                 \n",
      " leaky_re_lu_6 (LeakyReLU)   (None, 128)               0         \n",
      "                                                                 \n",
      " dropout_6 (Dropout)         (None, 128)               0         \n",
      "                                                                 \n",
      " dense_8 (Dense)             (None, 64)                8256      \n",
      "                                                                 \n",
      " batch_normalization_7 (Bat  (None, 64)                256       \n",
      " chNormalization)                                                \n",
      "                                                                 \n",
      " leaky_re_lu_7 (LeakyReLU)   (None, 64)                0         \n",
      "                                                                 \n",
      " dropout_7 (Dropout)         (None, 64)                0         \n",
      "                                                                 \n",
      " dense_9 (Dense)             (None, 32)                2080      \n",
      "                                                                 \n",
      " batch_normalization_8 (Bat  (None, 32)                128       \n",
      " chNormalization)                                                \n",
      "                                                                 \n",
      " leaky_re_lu_8 (LeakyReLU)   (None, 32)                0         \n",
      "                                                                 \n",
      " dropout_8 (Dropout)         (None, 32)                0         \n",
      "                                                                 \n",
      " dense_10 (Dense)            (None, 16)                528       \n",
      "                                                                 \n",
      " batch_normalization_9 (Bat  (None, 16)                64        \n",
      " chNormalization)                                                \n",
      "                                                                 \n",
      " leaky_re_lu_9 (LeakyReLU)   (None, 16)                0         \n",
      "                                                                 \n",
      " dropout_9 (Dropout)         (None, 16)                0         \n",
      "                                                                 \n",
      " dense_11 (Dense)            (None, 10)                170       \n",
      "                                                                 \n",
      "=================================================================\n",
      "Total params: 246874 (964.35 KB)\n",
      "Trainable params: 245882 (960.48 KB)\n",
      "Non-trainable params: 992 (3.88 KB)\n",
      "_________________________________________________________________\n"
     ]
    }
   ],
   "source": [
    "model.summary()"
   ]
  },
  {
   "cell_type": "code",
   "execution_count": 37,
   "id": "7481d756be767891",
   "metadata": {
    "ExecuteTime": {
     "end_time": "2023-09-18T06:54:29.945630200Z",
     "start_time": "2023-09-18T06:48:01.998127400Z"
    },
    "collapsed": false,
    "jupyter": {
     "outputs_hidden": false
    }
   },
   "outputs": [
    {
     "name": "stdout",
     "output_type": "stream",
     "text": [
      "Saving logs at logs/fit/3_log_23_09_26_19_55_20\n",
      "Epoch 1/50\n",
      "860/860 [==============================] - 11s 9ms/step - loss: 1.3140 - accuracy: 0.8640 - val_loss: 0.7566 - val_accuracy: 0.9488\n",
      "Epoch 2/50\n",
      "860/860 [==============================] - 7s 8ms/step - loss: 0.7761 - accuracy: 0.9210 - val_loss: 0.5952 - val_accuracy: 0.9506\n",
      "Epoch 3/50\n",
      "860/860 [==============================] - 7s 8ms/step - loss: 0.6420 - accuracy: 0.9304 - val_loss: 0.4907 - val_accuracy: 0.9622\n",
      "Epoch 4/50\n",
      "860/860 [==============================] - 7s 8ms/step - loss: 0.5784 - accuracy: 0.9347 - val_loss: 0.4616 - val_accuracy: 0.9600\n",
      "Epoch 5/50\n",
      "860/860 [==============================] - 7s 8ms/step - loss: 0.5354 - accuracy: 0.9382 - val_loss: 0.4349 - val_accuracy: 0.9650\n",
      "Epoch 6/50\n",
      "860/860 [==============================] - 7s 8ms/step - loss: 0.5069 - accuracy: 0.9418 - val_loss: 0.4030 - val_accuracy: 0.9680\n",
      "Epoch 7/50\n",
      "860/860 [==============================] - 7s 8ms/step - loss: 0.4922 - accuracy: 0.9414 - val_loss: 0.4635 - val_accuracy: 0.9474\n",
      "Epoch 8/50\n",
      "860/860 [==============================] - 7s 8ms/step - loss: 0.4738 - accuracy: 0.9428 - val_loss: 0.3959 - val_accuracy: 0.9614\n",
      "Epoch 9/50\n",
      "860/860 [==============================] - 7s 8ms/step - loss: 0.4534 - accuracy: 0.9450 - val_loss: 0.4122 - val_accuracy: 0.9580\n",
      "Epoch 10/50\n",
      "860/860 [==============================] - 7s 8ms/step - loss: 0.4458 - accuracy: 0.9465 - val_loss: 0.3582 - val_accuracy: 0.9668\n",
      "Epoch 11/50\n",
      "860/860 [==============================] - 7s 8ms/step - loss: 0.4350 - accuracy: 0.9471 - val_loss: 0.3781 - val_accuracy: 0.9628\n",
      "Epoch 12/50\n",
      "860/860 [==============================] - 7s 9ms/step - loss: 0.4228 - accuracy: 0.9479 - val_loss: 0.3549 - val_accuracy: 0.9666\n",
      "Epoch 13/50\n",
      "860/860 [==============================] - 7s 8ms/step - loss: 0.4117 - accuracy: 0.9487 - val_loss: 0.3418 - val_accuracy: 0.9684\n",
      "Epoch 14/50\n",
      "860/860 [==============================] - 7s 8ms/step - loss: 0.4042 - accuracy: 0.9495 - val_loss: 0.3588 - val_accuracy: 0.9644\n",
      "Epoch 15/50\n",
      "860/860 [==============================] - 7s 8ms/step - loss: 0.3965 - accuracy: 0.9505 - val_loss: 0.3241 - val_accuracy: 0.9702\n",
      "Epoch 16/50\n",
      "860/860 [==============================] - 7s 8ms/step - loss: 0.3865 - accuracy: 0.9513 - val_loss: 0.3574 - val_accuracy: 0.9616\n",
      "Epoch 17/50\n",
      "860/860 [==============================] - 7s 8ms/step - loss: 0.3853 - accuracy: 0.9512 - val_loss: 0.3323 - val_accuracy: 0.9684\n",
      "Epoch 18/50\n",
      "860/860 [==============================] - 7s 8ms/step - loss: 0.3793 - accuracy: 0.9520 - val_loss: 0.3197 - val_accuracy: 0.9714\n",
      "Epoch 19/50\n",
      "860/860 [==============================] - 7s 8ms/step - loss: 0.3799 - accuracy: 0.9504 - val_loss: 0.3325 - val_accuracy: 0.9670\n",
      "Epoch 20/50\n",
      "860/860 [==============================] - 7s 8ms/step - loss: 0.3744 - accuracy: 0.9526 - val_loss: 0.3292 - val_accuracy: 0.9672\n",
      "Epoch 21/50\n",
      "860/860 [==============================] - 7s 8ms/step - loss: 0.3701 - accuracy: 0.9527 - val_loss: 0.3064 - val_accuracy: 0.9724\n",
      "Epoch 22/50\n",
      "860/860 [==============================] - 7s 8ms/step - loss: 0.3666 - accuracy: 0.9521 - val_loss: 0.2888 - val_accuracy: 0.9758\n",
      "Epoch 23/50\n",
      "860/860 [==============================] - 7s 8ms/step - loss: 0.3605 - accuracy: 0.9539 - val_loss: 0.2902 - val_accuracy: 0.9744\n",
      "Epoch 24/50\n",
      "860/860 [==============================] - 7s 8ms/step - loss: 0.3606 - accuracy: 0.9533 - val_loss: 0.3204 - val_accuracy: 0.9678\n",
      "Epoch 25/50\n",
      "860/860 [==============================] - 7s 8ms/step - loss: 0.3580 - accuracy: 0.9539 - val_loss: 0.3051 - val_accuracy: 0.9698\n",
      "Epoch 26/50\n",
      "860/860 [==============================] - 7s 8ms/step - loss: 0.3573 - accuracy: 0.9537 - val_loss: 0.3073 - val_accuracy: 0.9716\n",
      "Epoch 27/50\n",
      "860/860 [==============================] - 7s 8ms/step - loss: 0.3508 - accuracy: 0.9555 - val_loss: 0.3069 - val_accuracy: 0.9692\n",
      "Epoch 28/50\n",
      "860/860 [==============================] - 7s 8ms/step - loss: 0.3568 - accuracy: 0.9541 - val_loss: 0.3036 - val_accuracy: 0.9678\n",
      "Epoch 29/50\n",
      "860/860 [==============================] - 7s 8ms/step - loss: 0.3457 - accuracy: 0.9571 - val_loss: 0.2913 - val_accuracy: 0.9734\n"
     ]
    }
   ],
   "source": [
    "def get_log_path(log_dir=\"logs/fit\"):\n",
    "    filename = time.strftime(\"3_log_%y_%m_%d_%H_%M_%S\")\n",
    "    logs_path = os.path.join(log_dir, filename)\n",
    "    print(f\"Saving logs at {logs_path}\")\n",
    "    return logs_path\n",
    "\n",
    "log_dirs = get_log_path()\n",
    "tb_cb = tf.keras.callbacks.TensorBoard(log_dir=log_dirs)\n",
    "\n",
    "early_stopping_cb = tf.keras.callbacks.EarlyStopping(patience=7, restore_best_weights=True)\n",
    "\n",
    "CKPT_path = os.path.join(\"Models\",\"Model_ckpt_Digit_mnist_3.h5\")\n",
    "checkpoint_cb = tf.keras.callbacks.ModelCheckpoint(CKPT_path, save_best_only=True)\n",
    "\n",
    "EPOCHS = 50\n",
    "VALIDATION_SET = (x_valid, y_valid)\n",
    "\n",
    "loss_function = \"sparse_categorical_crossentropy\"\n",
    "OPTIMIZER = tf.keras.optimizers.Adam(learning_rate=0.001,weight_decay=1e-4) # Weight decay is used here\n",
    "METRICS = [\"accuracy\"]\n",
    "\n",
    "model.compile(\n",
    "    loss=loss_function,\n",
    "    optimizer=OPTIMIZER,\n",
    "    metrics=METRICS\n",
    ")\n",
    "\n",
    "history = model.fit(x_train, y_train, epochs=EPOCHS, validation_data=VALIDATION_SET, batch_size=64,\n",
    "                    callbacks=[tb_cb, early_stopping_cb, checkpoint_cb], use_multiprocessing=True)"
   ]
  },
  {
   "cell_type": "code",
   "execution_count": 38,
   "id": "6272ee01-4810-4d67-8c2f-037670a492af",
   "metadata": {},
   "outputs": [
    {
     "data": {
      "text/plain": [
       "<AxesSubplot: >"
      ]
     },
     "execution_count": 38,
     "metadata": {},
     "output_type": "execute_result"
    },
    {
     "data": {
      "image/png": "[encoded data removed]",
      "text/plain": [
       "<Figure size 640x480 with 1 Axes>"
      ]
     },
     "metadata": {},
     "output_type": "display_data"
    }
   ],
   "source": [
    "pd.DataFrame(history.history).plot()"
   ]
  },
  {
   "cell_type": "code",
   "execution_count": 39,
   "id": "d2651345bef3c88d",
   "metadata": {
    "ExecuteTime": {
     "end_time": "2023-09-18T06:54:35.046195300Z",
     "start_time": "2023-09-18T06:54:29.962165Z"
    },
    "collapsed": false,
    "jupyter": {
     "outputs_hidden": false
    }
   },
   "outputs": [
    {
     "name": "stdout",
     "output_type": "stream",
     "text": [
      "313/313 [==============================] - 1s 2ms/step - loss: 0.3027 - accuracy: 0.9693\n"
     ]
    },
    {
     "data": {
      "text/plain": [
       "[0.30268532037734985, 0.9692999720573425]"
      ]
     },
     "execution_count": 39,
     "metadata": {},
     "output_type": "execute_result"
    }
   ],
   "source": [
    "ckpt_model = tf.keras.models.load_model(CKPT_path)\n",
    "ckpt_model.evaluate(x_test, y_test)"
   ]
  },
  {
   "cell_type": "markdown",
   "id": "a39b1dc4-7ed3-4c45-ae4c-775f1fd2e940",
   "metadata": {},
   "source": [
    "<font color = #B2A4FF size=5> The accuracy of the third **ANN** model is **96.93 %** </font>"
   ]
  },
  {
   "cell_type": "code",
   "execution_count": 40,
   "id": "56ab5e49-941b-4220-9261-2ac1306e6367",
   "metadata": {},
   "outputs": [],
   "source": [
    "del model\n",
    "del ckpt_model"
   ]
  },
  {
   "cell_type": "markdown",
   "id": "df685a7a-e68c-49c2-a861-814d75719f25",
   "metadata": {
    "jp-MarkdownHeadingCollapsed": true,
    "tags": []
   },
   "source": [
    "# <font color = #D80032>**LeNet5** CNN Architecture </font>"
   ]
  },
  {
   "cell_type": "markdown",
   "id": "d6ef78e4-ebf3-4106-897f-2b1a11f61033",
   "metadata": {
    "tags": []
   },
   "source": [
    "# Basic Introduction\n",
    "\n",
    "LeNet-5, from the paper Gradient-Based Learning Applied to Document Recognition, is a very efficient convolutional neural network for handwritten character recognition.\n",
    "\n",
    "### Structure of the LeNet network\n",
    "\n",
    "LeNet5 is a small network, it contains the basic modules of deep learning: convolutional layer, pooling layer, and full link layer. It is the basis of other deep learning models. Here we analyze LeNet5 in depth. At the same time, through example analysis, deepen the understanding of the convolutional layer and pooling layer.\n",
    "\n",
    "![lenet](https://raw.githubusercontent.com/entbappy/Branching-tutorial/master/lenet/lenet-5.png)\n",
    "\n",
    "\n",
    "LeNet-5 Total seven layer , does not comprise an input, each containing a trainable parameters; each layer has a plurality of the Map the Feature , a characteristic of each of the input FeatureMap extracted by means of a convolution filter, and then each FeatureMap There are multiple neurons.\n",
    "\n",
    "![lenet1](https://raw.githubusercontent.com/entbappy/Branching-tutorial/master/lenet/arch.jpg)\n",
    "\n",
    "Detailed explanation of each layer parameter:\n",
    "\n",
    "#### **INPUT Layer**\n",
    "\n",
    "The first is the data INPUT layer. The size of the input image is uniformly normalized to 32 * 32.\n",
    "\n",
    "> Note: This layer does not count as the network structure of LeNet-5. Traditionally, the input layer is not considered as one of the network hierarchy.\n",
    "\n",
    "\n",
    "#### **C1 layer-convolutional layer**\n",
    "\n",
    ">**Input picture**: 32 * 32\n",
    "\n",
    ">**Convolution kernel size**: 5 * 5\n",
    "\n",
    ">**Convolution kernel types**: 6\n",
    "\n",
    ">**Output featuremap size**: 28 * 28 (32-5 + 1) = 28\n",
    "\n",
    ">**Number of neurons**: 28 * 28 * 6\n",
    "\n",
    ">**Trainable parameters**: (5 * 5 + 1) * 6 (5 * 5 = 25 unit parameters and one bias parameter per filter, a total of 6 filters)\n",
    "\n",
    ">**Number of connections**: (5 * 5 + 1) * 6 * 28 * 28 = 122304\n",
    "\n",
    "**Detailed description:**\n",
    "\n",
    "1. The first convolution operation is performed on the input image (using 6 convolution kernels of size 5 * 5) to obtain 6 C1 feature maps (6 feature maps of size 28 * 28, 32-5 + 1 = 28).\n",
    "\n",
    "2. Let's take a look at how many parameters are needed. The size of the convolution kernel is 5 * 5, and there are 6 * (5 * 5 + 1) = 156 parameters in total, where +1 indicates that a kernel has a bias.\n",
    "\n",
    "3. For the convolutional layer C1, each pixel in C1 is connected to 5 * 5 pixels and 1 bias in the input image, so there are 156 * 28 * 28 = 122304 connections in total. There are 122,304 connections, but we only need to learn 156 parameters, mainly through weight sharing.\n",
    "\n",
    "\n",
    "#### **S2 layer-pooling layer (downsampling layer)**\n",
    "\n",
    ">**Input**: 28 * 28\n",
    "\n",
    ">**Sampling area**: 2 * 2\n",
    "\n",
    ">**Sampling method**: 4 inputs are added, multiplied by a trainable parameter, plus a trainable offset. Results via sigmoid\n",
    "\n",
    ">**Sampling type**: 6\n",
    "\n",
    ">**Output featureMap size**: 14 * 14 (28/2)\n",
    "\n",
    ">**Number of neurons**: 14 * 14 * 6\n",
    "\n",
    ">**Trainable parameters**: 2 * 6 (the weight of the sum + the offset)\n",
    "\n",
    ">**Number of connections**: (2 * 2 + 1) * 6 * 14 * 14\n",
    "\n",
    ">The size of each feature map in S2 is 1/4 of the size of the feature map in C1.\n",
    "\n",
    "**Detailed description:**\n",
    "\n",
    "The pooling operation is followed immediately after the first convolution. Pooling is performed using 2 * 2 kernels, and S2, 6 feature maps of 14 * 14 (28/2 = 14) are obtained.\n",
    "\n",
    "The pooling layer of S2 is the sum of the pixels in the 2 * 2 area in C1 multiplied by a weight coefficient plus an offset, and then the result is mapped again.\n",
    "\n",
    "So each pooling core has two training parameters, so there are 2x6 = 12 training parameters, but there are 5x14x14x6 = 5880 connections.\n",
    "\n",
    "#### **C3 layer-convolutional layer**\n",
    "\n",
    ">**Input**: all 6 or several feature map combinations in S2\n",
    "\n",
    ">**Convolution kernel size**: 5 * 5\n",
    "\n",
    ">**Convolution kernel type**: 16\n",
    "\n",
    ">**Output featureMap size**: 10 * 10 (14-5 + 1) = 10\n",
    "\n",
    ">Each feature map in C3 is connected to all 6 or several feature maps in S2, indicating that the feature map of this layer is a different combination of the feature maps extracted from the previous layer.\n",
    "\n",
    ">One way is that the first 6 feature maps of C3 take 3 adjacent feature map subsets in S2 as input. The next 6 feature maps take 4 subsets of neighboring feature maps in S2 as input. The next three take the non-adjacent 4 feature map subsets as input. The last one takes all the feature maps in S2 as input.\n",
    "\n",
    ">**The trainable parameters are**: 6 * (3 * 5 * 5 + 1) + 6 * (4 * 5 * 5 + 1) + 3 * (4 * 5 * 5 + 1) + 1 * (6 * 5 * 5 +1) = 1516\n",
    "\n",
    ">**Number of connections**: 10 * 10 * 1516 = 151600\n",
    "\n",
    "**Detailed description:**\n",
    "\n",
    "After the first pooling, the second convolution, the output of the second convolution is C3, 16 10x10 feature maps, and the size of the convolution kernel is 5 * 5. We know that S2 has 6 14 * 14 feature maps, how to get 16 feature maps from 6 feature maps? Here are the 16 feature maps calculated by the special combination of the feature maps of S2. details as follows:\n",
    "\n",
    "\n",
    "\n",
    "\n",
    "The first 6 feature maps of C3 (corresponding to the 6th column of the first red box in the figure above) are connected to the 3 feature maps connected to the S2 layer (the first red box in the above figure), and the next 6 feature maps are connected to the S2 layer The 4 feature maps are connected (the second red box in the figure above), the next 3 feature maps are connected with the 4 feature maps that are not connected at the S2 layer, and the last is connected with all the feature maps at the S2 layer. The convolution kernel size is still 5 * 5, so there are 6 * (3 * 5 * 5 + 1) + 6 * (4 * 5 * 5 + 1) + 3 * (4 * 5 * 5 + 1) +1 * (6 * 5 * 5 + 1) = 1516 parameters. The image size is 10 * 10, so there are 151600 connections.\n",
    "\n",
    "![lenet1](https://raw.githubusercontent.com/entbappy/Branching-tutorial/master/lenet/c31.png)\n",
    "\n",
    "\n",
    "The convolution structure of C3 and the first 3 graphs in S2 is shown below:\n",
    "\n",
    "![lenet1](https://raw.githubusercontent.com/entbappy/Branching-tutorial/master/lenet/c32.png)\n",
    "\n",
    "\n",
    "#### **S4 layer-pooling layer (downsampling layer)**\n",
    "\n",
    ">**Input**: 10 * 10\n",
    "\n",
    ">**Sampling area**: 2 * 2\n",
    "\n",
    ">**Sampling method**: 4 inputs are added, multiplied by a trainable parameter, plus a trainable offset. Results via sigmoid\n",
    "\n",
    ">**Sampling type**: 16\n",
    "\n",
    ">**Output featureMap size**: 5 * 5 (10/2)\n",
    "\n",
    ">**Number of neurons**: 5 * 5 * 16 = 400\n",
    "\n",
    ">**Trainable parameters**: 2 * 16 = 32 (the weight of the sum + the offset)\n",
    "\n",
    ">**Number of connections**: 16 * (2 * 2 + 1) * 5 * 5 = 2000\n",
    "\n",
    ">The size of each feature map in S4 is 1/4 of the size of the feature map in C3\n",
    "\n",
    "**Detailed description:**\n",
    "\n",
    "S4 is the pooling layer, the window size is still 2 * 2, a total of 16 feature maps, and the 16 10x10 maps of the C3 layer are pooled in units of 2x2 to obtain 16 5x5 feature maps. This layer has a total of 32 training parameters of 2x16, 5x5x5x16 = 2000 connections.\n",
    "\n",
    "*The connection is similar to the S2 layer.*\n",
    "\n",
    "#### **C5 layer-convolution layer**\n",
    "\n",
    ">**Input**: All 16 unit feature maps of the S4 layer (all connected to s4)\n",
    "\n",
    ">**Convolution kernel size**: 5 * 5\n",
    "\n",
    ">**Convolution kernel type**: 120\n",
    "\n",
    ">**Output featureMap size**: 1 * 1 (5-5 + 1)\n",
    "\n",
    ">**Trainable parameters / connection**: 120 * (16 * 5 * 5 + 1) = 48120\n",
    "\n",
    "**Detailed description:**\n",
    "\n",
    "\n",
    "The C5 layer is a convolutional layer. Since the size of the 16 images of the S4 layer is 5x5, which is the same as the size of the convolution kernel, the size of the image formed after convolution is 1x1. This results in 120 convolution results. Each is connected to the 16 maps on the previous level. So there are (5x5x16 + 1) x120 = 48120 parameters, and there are also 48120 connections. The network structure of the C5 layer is as follows:\n",
    "\n",
    "![lenet1](https://raw.githubusercontent.com/entbappy/Branching-tutorial/master/lenet/c5.png)\n",
    "\n",
    "\n",
    "#### **F6 layer-fully connected layer**\n",
    "\n",
    ">**Input**: c5 120-dimensional vector\n",
    "\n",
    ">**Calculation method**: calculate the dot product between the input vector and the weight vector, plus an offset, and the result is output through the sigmoid function.\n",
    "\n",
    ">**Trainable parameters**: 84 * (120 + 1) = 10164\n",
    "\n",
    "**Detailed description:**\n",
    "\n",
    "Layer 6 is a fully connected layer. The F6 layer has 84 nodes, corresponding to a 7x12 bitmap, -1 means white, 1 means black, so the black and white of the bitmap of each symbol corresponds to a code. The training parameters and number of connections for this layer are (120 + 1) x84 = 10164. The ASCII encoding diagram is as follows:\n",
    "\n",
    "![lenet1](https://raw.githubusercontent.com/entbappy/Branching-tutorial/master/lenet/f61.png)\n",
    "\n",
    "The connection method of the F6 layer is as follows:\n",
    "\n",
    "![lenet1](https://raw.githubusercontent.com/entbappy/Branching-tutorial/master/lenet/f62.png)\n",
    "\n",
    "\n",
    "#### **Output layer-fully connected layer**\n",
    "\n",
    "The output layer is also a fully connected layer, with a total of 10 nodes, which respectively represent the numbers 0 to 9, and if the value of node i is 0, the result of network recognition is the number i. A radial basis function (RBF) network connection is used. Assuming x is the input of the previous layer and y is the output of the RBF, the calculation of the RBF output is:\n",
    "\n",
    "![lenet1](https://raw.githubusercontent.com/entbappy/Branching-tutorial/master/lenet/81.png)\n",
    "\n",
    "The value of the above formula w_ij is determined by the bitmap encoding of i, where i ranges from 0 to 9, and j ranges from 0 to 7 * 12-1. The closer the value of the RBF output is to 0, the closer it is to i, that is, the closer to the ASCII encoding figure of i, it means that the recognition result input by the current network is the character i. This layer has 84x10 = 840 parameters and connections.\n",
    "\n",
    "![lenet1](https://raw.githubusercontent.com/entbappy/Branching-tutorial/master/lenet/82.png)\n",
    "\n",
    "\n",
    "**Summary**\n",
    "\n",
    "\n",
    "* LeNet-5 is a very efficient convolutional neural network for handwritten character recognition.\n",
    "* Convolutional neural networks can make good use of the structural information of images.\n",
    "* The convolutional layer has fewer parameters, which is also determined by the main characteristics of the convolutional layer, that is, local connection and shared weights.\n",
    "\n",
    "\n",
    "\n",
    "\n",
    "\n",
    "\n",
    "\n",
    "\n",
    "\n",
    "\n"
   ]
  },
  {
   "cell_type": "code",
   "execution_count": 41,
   "id": "24473c0e-a4fe-4769-a7f2-3f4f6661dbc6",
   "metadata": {},
   "outputs": [],
   "source": [
    "# Reshaping the data so that it is compatable with the architecture\n",
    "x_train.reshape(x_train.shape[0],x_train.shape[1],x_train.shape[2],1)\n",
    "x_test.reshape(x_test.shape[0],x_test.shape[1],x_test.shape[2],1)\n",
    "\n",
    "# Building the Model Architecture\n",
    "model = Sequential()\n",
    "\n",
    "model.add(Conv2D(6, kernel_size = (5,5), padding = 'valid', activation='tanh', input_shape = (28,28,1)))\n",
    "model.add(AveragePooling2D(pool_size= (2,2), strides = 2, padding = 'valid'))\n",
    "\n",
    "model.add(Conv2D(16, kernel_size = (5,5), padding = 'valid', activation='tanh'))\n",
    "model.add(AveragePooling2D(pool_size= (2,2), strides = 2, padding = 'valid'))\n",
    "\n",
    "model.add(Flatten())\n",
    "\n",
    "model.add(Dense(120, activation='tanh'))\n",
    "model.add(Dense(84, activation='tanh'))\n",
    "model.add(Dense(10, activation='softmax'))"
   ]
  },
  {
   "cell_type": "code",
   "execution_count": 42,
   "id": "d151f852-ac56-4df1-ad2d-ddc848d7b5ec",
   "metadata": {},
   "outputs": [
    {
     "name": "stdout",
     "output_type": "stream",
     "text": [
      "Model: \"sequential_3\"\n",
      "_________________________________________________________________\n",
      " Layer (type)                Output Shape              Param #   \n",
      "=================================================================\n",
      " conv2d (Conv2D)             (None, 24, 24, 6)         156       \n",
      "                                                                 \n",
      " average_pooling2d (Average  (None, 12, 12, 6)         0         \n",
      " Pooling2D)                                                      \n",
      "                                                                 \n",
      " conv2d_1 (Conv2D)           (None, 8, 8, 16)          2416      \n",
      "                                                                 \n",
      " average_pooling2d_1 (Avera  (None, 4, 4, 16)          0         \n",
      " gePooling2D)                                                    \n",
      "                                                                 \n",
      " flatten_2 (Flatten)         (None, 256)               0         \n",
      "                                                                 \n",
      " dense_12 (Dense)            (None, 120)               30840     \n",
      "                                                                 \n",
      " dense_13 (Dense)            (None, 84)                10164     \n",
      "                                                                 \n",
      " dense_14 (Dense)            (None, 10)                850       \n",
      "                                                                 \n",
      "=================================================================\n",
      "Total params: 44426 (173.54 KB)\n",
      "Trainable params: 44426 (173.54 KB)\n",
      "Non-trainable params: 0 (0.00 Byte)\n",
      "_________________________________________________________________\n"
     ]
    }
   ],
   "source": [
    "model.summary()"
   ]
  },
  {
   "cell_type": "code",
   "execution_count": 43,
   "id": "d19500fa-2ff3-4fda-96f3-a7a7d4ef31ae",
   "metadata": {},
   "outputs": [
    {
     "name": "stdout",
     "output_type": "stream",
     "text": [
      "Saving logs at logs/fit/4_log_23_09_26_19_58_56\n",
      "Epoch 1/50\n",
      "860/860 [==============================] - 8s 8ms/step - loss: 0.2934 - accuracy: 0.9136 - val_loss: 0.1174 - val_accuracy: 0.9664\n",
      "Epoch 2/50\n",
      "860/860 [==============================] - 7s 8ms/step - loss: 0.1076 - accuracy: 0.9671 - val_loss: 0.0772 - val_accuracy: 0.9756\n",
      "Epoch 3/50\n",
      "860/860 [==============================] - 7s 8ms/step - loss: 0.0720 - accuracy: 0.9780 - val_loss: 0.0634 - val_accuracy: 0.9820\n",
      "Epoch 4/50\n",
      "860/860 [==============================] - 7s 8ms/step - loss: 0.0563 - accuracy: 0.9827 - val_loss: 0.0515 - val_accuracy: 0.9848\n",
      "Epoch 5/50\n",
      "860/860 [==============================] - 7s 8ms/step - loss: 0.0439 - accuracy: 0.9861 - val_loss: 0.0490 - val_accuracy: 0.9852\n",
      "Epoch 6/50\n",
      "860/860 [==============================] - 7s 8ms/step - loss: 0.0365 - accuracy: 0.9883 - val_loss: 0.0482 - val_accuracy: 0.9860\n",
      "Epoch 7/50\n",
      "860/860 [==============================] - 7s 8ms/step - loss: 0.0309 - accuracy: 0.9901 - val_loss: 0.0447 - val_accuracy: 0.9864\n",
      "Epoch 8/50\n",
      "860/860 [==============================] - 7s 8ms/step - loss: 0.0258 - accuracy: 0.9919 - val_loss: 0.0545 - val_accuracy: 0.9832\n",
      "Epoch 9/50\n",
      "860/860 [==============================] - 7s 8ms/step - loss: 0.0214 - accuracy: 0.9930 - val_loss: 0.0407 - val_accuracy: 0.9884\n",
      "Epoch 10/50\n",
      "860/860 [==============================] - 7s 8ms/step - loss: 0.0180 - accuracy: 0.9943 - val_loss: 0.0580 - val_accuracy: 0.9842\n",
      "Epoch 11/50\n",
      "860/860 [==============================] - 7s 8ms/step - loss: 0.0169 - accuracy: 0.9945 - val_loss: 0.0430 - val_accuracy: 0.9888\n",
      "Epoch 12/50\n",
      "860/860 [==============================] - 7s 8ms/step - loss: 0.0133 - accuracy: 0.9954 - val_loss: 0.0503 - val_accuracy: 0.9864\n",
      "Epoch 13/50\n",
      "860/860 [==============================] - 7s 8ms/step - loss: 0.0122 - accuracy: 0.9964 - val_loss: 0.0469 - val_accuracy: 0.9876\n",
      "Epoch 14/50\n",
      "860/860 [==============================] - 7s 8ms/step - loss: 0.0107 - accuracy: 0.9964 - val_loss: 0.0416 - val_accuracy: 0.9898\n",
      "Epoch 15/50\n",
      "860/860 [==============================] - 7s 8ms/step - loss: 0.0100 - accuracy: 0.9968 - val_loss: 0.0464 - val_accuracy: 0.9872\n",
      "Epoch 16/50\n",
      "860/860 [==============================] - 7s 8ms/step - loss: 0.0078 - accuracy: 0.9976 - val_loss: 0.0475 - val_accuracy: 0.9880\n"
     ]
    }
   ],
   "source": [
    "def get_log_path(log_dir=\"logs/fit\"):\n",
    "    filename = time.strftime(\"4_log_%y_%m_%d_%H_%M_%S\")\n",
    "    logs_path = os.path.join(log_dir, filename)\n",
    "    print(f\"Saving logs at {logs_path}\")\n",
    "    return logs_path\n",
    "\n",
    "log_dirs = get_log_path()\n",
    "tb_cb = tf.keras.callbacks.TensorBoard(log_dir=log_dirs)\n",
    "\n",
    "early_stopping_cb = tf.keras.callbacks.EarlyStopping(patience=7, restore_best_weights=True)\n",
    "\n",
    "CKPT_path = os.path.join(\"Models\",\"Model_ckpt_Digit_mnist_4.h5\")\n",
    "checkpoint_cb = tf.keras.callbacks.ModelCheckpoint(CKPT_path, save_best_only=True)\n",
    "\n",
    "EPOCHS = 50\n",
    "VALIDATION_SET = (x_valid, y_valid)\n",
    "\n",
    "loss_function = \"sparse_categorical_crossentropy\"\n",
    "OPTIMIZER = tf.keras.optimizers.Adam(learning_rate=0.001)\n",
    "METRICS = [\"accuracy\"]\n",
    "\n",
    "model.compile(\n",
    "    loss=loss_function,\n",
    "    optimizer=OPTIMIZER,\n",
    "    metrics=METRICS\n",
    ")\n",
    "\n",
    "history = model.fit(x_train, y_train, epochs=EPOCHS, validation_data=VALIDATION_SET, batch_size=64,verbose=1,\n",
    "                         callbacks=[tb_cb, early_stopping_cb, checkpoint_cb], use_multiprocessing=True)"
   ]
  },
  {
   "cell_type": "code",
   "execution_count": 44,
   "id": "6d3f3b6f-ec71-4f14-a24f-b1ef11e527f4",
   "metadata": {},
   "outputs": [
    {
     "data": {
      "text/plain": [
       "<AxesSubplot: >"
      ]
     },
     "execution_count": 44,
     "metadata": {},
     "output_type": "execute_result"
    },
    {
     "data": {
      "image/png": "[encoded data removed]",
      "text/plain": [
       "<Figure size 640x480 with 1 Axes>"
      ]
     },
     "metadata": {},
     "output_type": "display_data"
    }
   ],
   "source": [
    "pd.DataFrame(history.history).plot()"
   ]
  },
  {
   "cell_type": "code",
   "execution_count": 45,
   "id": "c4d49c41-64ac-4745-baa5-7c3617c30fb3",
   "metadata": {},
   "outputs": [
    {
     "name": "stdout",
     "output_type": "stream",
     "text": [
      "313/313 [==============================] - 1s 3ms/step - loss: 0.0432 - accuracy: 0.9861\n"
     ]
    },
    {
     "data": {
      "text/plain": [
       "[0.04321447014808655, 0.9861000180244446]"
      ]
     },
     "execution_count": 45,
     "metadata": {},
     "output_type": "execute_result"
    }
   ],
   "source": [
    "ckpt_model = tf.keras.models.load_model(CKPT_path)\n",
    "ckpt_model.evaluate(x_test, y_test)"
   ]
  },
  {
   "cell_type": "markdown",
   "id": "330fa54d-a35e-4b8c-9b97-432b04f74cd1",
   "metadata": {},
   "source": [
    "<font color = #B2A4FF size=5> The accuracy of the **CNN** model is **98.61 %** </font>"
   ]
  },
  {
   "cell_type": "code",
   "execution_count": 46,
   "id": "9919361f-f5cd-4a33-ac19-53ab5e2c6352",
   "metadata": {},
   "outputs": [],
   "source": [
    "# %load_ext tensorboard\n",
    "# %tensorboard --logdir logs/fit"
   ]
  },
  {
   "cell_type": "markdown",
   "id": "176d3f5d-2909-4cb2-90e3-208707044e1d",
   "metadata": {},
   "source": [
    "<font color = #FE0000 size = 10> *Thank You* </font>"
   ]
  }
 ],
 "metadata": {
  "kernelspec": {
   "display_name": "Python 3 (ipykernel)",
   "language": "python",
   "name": "python3"
  },
  "language_info": {
   "codemirror_mode": {
    "name": "ipython",
    "version": 3
   },
   "file_extension": ".py",
   "mimetype": "text/x-python",
   "name": "python",
   "nbconvert_exporter": "python",
   "pygments_lexer": "ipython3",
   "version": "3.10.8"
  }
 },
 "nbformat": 4,
 "nbformat_minor": 5
}
